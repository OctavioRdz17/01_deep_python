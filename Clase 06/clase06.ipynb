{
 "cells": [
  {
   "cell_type": "code",
   "execution_count": 32,
   "metadata": {},
   "outputs": [],
   "source": [
    "class Node:\n",
    "    def __init__(self, val):\n",
    "        self.__data = val\n",
    "        self.__next = None\n",
    "\n",
    "    def getData(self):\n",
    "        return self.__data\n",
    "    \n",
    "    def getNext(self):\n",
    "        return self.__next\n",
    "    \n",
    "    def setData(self,val):\n",
    "        self.__data = val\n",
    "\n",
    "    def setNext(self,val):\n",
    "        self.__next = val\n"
   ]
  },
  {
   "cell_type": "code",
   "execution_count": 21,
   "metadata": {},
   "outputs": [],
   "source": [
    "n1 = Node(1)\n",
    "n2 = Node(8)"
   ]
  },
  {
   "cell_type": "code",
   "execution_count": 22,
   "metadata": {},
   "outputs": [
    {
     "name": "stdout",
     "output_type": "stream",
     "text": [
      "1\n",
      "8\n"
     ]
    }
   ],
   "source": [
    "print (n1.getData())\n",
    "print (n2.getData())"
   ]
  },
  {
   "cell_type": "code",
   "execution_count": 23,
   "metadata": {},
   "outputs": [
    {
     "name": "stdout",
     "output_type": "stream",
     "text": [
      "None\n",
      "None\n"
     ]
    }
   ],
   "source": [
    "print (n1.getNext())\n",
    "print (n2.getNext())"
   ]
  },
  {
   "cell_type": "code",
   "execution_count": 25,
   "metadata": {},
   "outputs": [
    {
     "data": {
      "text/plain": [
       "<__main__.Node at 0x174a98a1ba0>"
      ]
     },
     "execution_count": 25,
     "metadata": {},
     "output_type": "execute_result"
    }
   ],
   "source": [
    "n1.setNext(n2)\n",
    "n1.getNext()\n"
   ]
  },
  {
   "cell_type": "code",
   "execution_count": 67,
   "metadata": {},
   "outputs": [],
   "source": [
    "class LinkedList:\n",
    "    def __init__(self):\n",
    "        self.head = None\n",
    "\n",
    "    def isEmpty(self):\n",
    "        \"\"\"La Lista esta vacia? \"\"\"\n",
    "        if self.head == None:\n",
    "            return True\n",
    "        else:\n",
    "            return False\n",
    "    \n",
    "    def add(self,item):\n",
    "        \"\"\"Añadir un itrem a la lista\"\"\"\n",
    "        new_node = Node(item)\n",
    "        new_node.setNext(self.head)\n",
    "        self.head = new_node\n",
    "\n",
    "    def size(self):\n",
    "        \"\"\"Cantidad de nodos en la lista\"\"\"\n",
    "        count = 0 \n",
    "        puntero = self.head\n",
    "\n",
    "        while not puntero == None: # mientas que el puntero no sea igual a none\n",
    "            count += 1\n",
    "            puntero = puntero.getNext()\n",
    "        return count\n",
    "    \n",
    "    def search(self,item):\n",
    "        '''Buscar un item de la lista, si lo encuentra return true'''\n",
    "        puntero = self.head\n",
    "        found = False\n",
    "        while((puntero!=None)and not found):\n",
    "            if puntero.getData() == item:\n",
    "                found = True\n",
    "            else:\n",
    "                puntero = puntero.getNext()\n",
    "\n",
    "        return found\n",
    "        \n",
    "    def remove(self,item):\n",
    "        \"\"\"Remover el item de la lista, si no lo encuentra ValueError\"\"\"\n",
    "        puntero = self.head\n",
    "        anterior = None\n",
    "        found = False\n",
    "\n",
    "        # Recorre la lista hasta encontrar el item igual o que llegue al final de la lista donde el next es igual a none\n",
    "        while((puntero!=None) and not found):\n",
    "            if puntero.getData() == item:\n",
    "                found = True\n",
    "            else:# recorre el puntero al nuevo nodo\n",
    "                anterior = puntero\n",
    "                puntero = puntero.getNext()\n",
    "\n",
    "        if found:#si lo encuentra\n",
    "            if anterior == None:#cuando lo encuentra en la primera posicion\n",
    "                self.head = puntero.getNext()\n",
    "            else:#mueve al punto anterior para que brinque este nodo que se elimino\n",
    "                anterior.setNext(puntero.getNext())\n",
    "        else: #retorna error al no encontrar la data\n",
    "            raise ValueError('item no encontrado')\n",
    "        \n",
    "    \n",
    "    def insert(self,posicion,item):\n",
    "        '''\n",
    "        Insertar un item en la poscion especificada,\n",
    "        IndexError\n",
    "        '''\n",
    "        if posicion > self.size() - 1: # compara que el lugar a insertar este dentro del randod e la lista\n",
    "            raise IndexError('Posicion fuera de rango')\n",
    "        puntero = self.head # puntero en el ultimo elemento de la lista\n",
    "        anterior = None # anterir en none\n",
    "        pos = 0 # el ultimo elemento es la poscion 0\n",
    "        if posicion == 0: \n",
    "            self.add(item) # se agrega si la posicion es 0 donde \n",
    "        else: # cuando no es 0\n",
    "            new_node = Node(item) # creamos el nodo nuevo\n",
    "            while pos < posicion: # recorremos la lista hasta encontrar el index donde se instalara el nuevo valor\n",
    "                pos += 1 # sumamos la posicion\n",
    "                anterior =  puntero # guardamos el puntero actual en anterior\n",
    "                puntero = puntero.getNext() # se apunta al nuevo nodo y se itera de nuevo hasta encontrar la poscion buscada\n",
    "            anterior.setNext(new_node) #se cambia el puntero anterior a el nuevo nodo creado para insertarlo\n",
    "            new_node.setNext(puntero) #ahora el nuevo nodo se le ingresa el next del nodo anterior\n",
    "\n",
    "    def index(self, item):\n",
    "        \"\"\"Devuelve la posicion del item en la lista\"\"\"\n",
    "        puntero = self.head\n",
    "        pos = 0\n",
    "        found = False\n",
    "\n",
    "        # recorre la lista hasta encontar la palabra o hasta terminar la lista y regresar la posicion o none\n",
    "        while((puntero!=None)and (not found)):\n",
    "            if puntero.getData() == item:\n",
    "                found = True\n",
    "            else:\n",
    "                puntero = puntero.getNext()\n",
    "                pos += 1\n",
    "        if not found:\n",
    "            pos = None\n",
    "        return pos\n",
    "    \n",
    "    def pop(self,posicion = None):\n",
    "        '''Si no hay argumento, elimina el head '''\n",
    "        puntero = self.head # puntero en el ultimo nodo de la lista\n",
    "        if posicion == None: # si no se especifica la poscion\n",
    "            ret = puntero.getData() # guardamos la data\n",
    "            self.head = puntero.getNext() #cambiamos la cabezera al siguiente punto\n",
    "        else:\n",
    "            if posicion > self.size(): #revisamos que este dentro de rango el index dado\n",
    "                raise IndexError ('Index fuera del rango')\n",
    "\n",
    "        pos = 0\n",
    "        anterior =  None\n",
    "        while pos < posicion: # recorremos la lista hasta encontrar el index don\n",
    "            anterior = puntero\n",
    "            puntero = puntero.getNext()\n",
    "            pos += 1 \n",
    "            ret = puntero.getData()\n",
    "        \n",
    "        anterior.setNext(puntero.getNext())# ponemos el indice la posicion anterior \n",
    "        return ret # regresamos el dato\n",
    "    \n",
    "\n",
    "    def append(self,item):\n",
    "        '''Agregar un elemento al final de la lista'''\n",
    "        puntero = self.head\n",
    "        pos = 0\n",
    "        anterior = None\n",
    "        largo = self.size() #len de la lista\n",
    "\n",
    "        while pos < largo: # recorremos toda la lista para encontrar el primer elemento\n",
    "            anterior = puntero\n",
    "            puntero = puntero.getNext()\n",
    "            pos += 1\n",
    "        \n",
    "        #creamos el nodo a hacer append\n",
    "        new_node = Node(item)\n",
    "        if anterior ==None: # cuando no hay elementos en la lista\n",
    "            new_node.setNext(puntero)\n",
    "            self.head = new_node # sea agrega el head al unico elemento\n",
    "        else:#cuando si hay elementos\n",
    "            anterior.setNext(new_node) #agregamos al primer elemeto anterior la direccion del nuevo elemento apendiado\n",
    "            \n",
    "    def printList(self):\n",
    "        \"\"\"Imprime la lista en pantalla\"\"\"\n",
    "        puntero = self.head \n",
    "\n",
    "        while not(puntero == None):\n",
    "            print(puntero.getData())\n",
    "            puntero = puntero.getNext()\n",
    "            \n"
   ]
  },
  {
   "cell_type": "code",
   "execution_count": 70,
   "metadata": {},
   "outputs": [],
   "source": [
    "lis = LinkedList()"
   ]
  },
  {
   "cell_type": "code",
   "execution_count": 71,
   "metadata": {},
   "outputs": [
    {
     "data": {
      "text/plain": [
       "True"
      ]
     },
     "execution_count": 71,
     "metadata": {},
     "output_type": "execute_result"
    }
   ],
   "source": [
    "lis.isEmpty()"
   ]
  },
  {
   "cell_type": "code",
   "execution_count": 72,
   "metadata": {},
   "outputs": [],
   "source": [
    "lis.add('rojo')\n",
    "lis.add('azul')\n",
    "lis.add('verde')\n",
    "lis.add('amarillo')\n",
    "lis.add(81)"
   ]
  },
  {
   "cell_type": "code",
   "execution_count": 73,
   "metadata": {},
   "outputs": [
    {
     "data": {
      "text/plain": [
       "81"
      ]
     },
     "execution_count": 73,
     "metadata": {},
     "output_type": "execute_result"
    }
   ],
   "source": [
    "lis.head.getData()"
   ]
  },
  {
   "cell_type": "code",
   "execution_count": 74,
   "metadata": {},
   "outputs": [
    {
     "data": {
      "text/plain": [
       "False"
      ]
     },
     "execution_count": 74,
     "metadata": {},
     "output_type": "execute_result"
    }
   ],
   "source": [
    "lis.search('81')"
   ]
  },
  {
   "cell_type": "code",
   "execution_count": 75,
   "metadata": {},
   "outputs": [
    {
     "data": {
      "text/plain": [
       "True"
      ]
     },
     "execution_count": 75,
     "metadata": {},
     "output_type": "execute_result"
    }
   ],
   "source": [
    "lis.search('azul')"
   ]
  },
  {
   "cell_type": "code",
   "execution_count": 76,
   "metadata": {},
   "outputs": [
    {
     "data": {
      "text/plain": [
       "True"
      ]
     },
     "execution_count": 76,
     "metadata": {},
     "output_type": "execute_result"
    }
   ],
   "source": [
    "# lis.search('rojo')\n",
    "# lis.search('81')\n",
    "lis.search(81)"
   ]
  },
  {
   "cell_type": "code",
   "execution_count": 77,
   "metadata": {},
   "outputs": [
    {
     "data": {
      "text/plain": [
       "False"
      ]
     },
     "execution_count": 77,
     "metadata": {},
     "output_type": "execute_result"
    }
   ],
   "source": [
    "lis.remove('azul')\n",
    "lis.search('azul')"
   ]
  },
  {
   "cell_type": "code",
   "execution_count": 78,
   "metadata": {},
   "outputs": [],
   "source": [
    "lis.insert(3,'Marron')"
   ]
  },
  {
   "cell_type": "code",
   "execution_count": 79,
   "metadata": {},
   "outputs": [],
   "source": [
    "lis.add('Violeta')"
   ]
  },
  {
   "cell_type": "code",
   "execution_count": 80,
   "metadata": {},
   "outputs": [
    {
     "name": "stdout",
     "output_type": "stream",
     "text": [
      "4\n"
     ]
    }
   ],
   "source": [
    "print(lis.index('Marron'))"
   ]
  },
  {
   "cell_type": "code",
   "execution_count": 81,
   "metadata": {},
   "outputs": [],
   "source": [
    "lis.add('Morado')\n",
    "lis.insert(5,'Magenta')\n",
    "lis.append('Kiwi')"
   ]
  },
  {
   "cell_type": "code",
   "execution_count": 82,
   "metadata": {},
   "outputs": [
    {
     "name": "stdout",
     "output_type": "stream",
     "text": [
      "Morado\n",
      "Violeta\n",
      "81\n",
      "amarillo\n",
      "verde\n",
      "Magenta\n",
      "Marron\n",
      "rojo\n",
      "Kiwi\n"
     ]
    }
   ],
   "source": [
    "lis.printList()"
   ]
  }
 ],
 "metadata": {
  "kernelspec": {
   "display_name": "Python 3",
   "language": "python",
   "name": "python3"
  },
  "language_info": {
   "codemirror_mode": {
    "name": "ipython",
    "version": 3
   },
   "file_extension": ".py",
   "mimetype": "text/x-python",
   "name": "python",
   "nbconvert_exporter": "python",
   "pygments_lexer": "ipython3",
   "version": "3.10.8"
  },
  "orig_nbformat": 4
 },
 "nbformat": 4,
 "nbformat_minor": 2
}
