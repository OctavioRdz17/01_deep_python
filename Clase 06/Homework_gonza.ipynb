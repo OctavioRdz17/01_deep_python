{
 "cells": [
  {
   "cell_type": "markdown",
   "metadata": {},
   "source": [
    "# Práctica Clase 5"
   ]
  },
  {
   "cell_type": "markdown",
   "metadata": {},
   "source": [
    "1) Implementar un juego, que consista en apilar números enteros del 1 al 20, de forma aleatoria, para lo cual debe usarse una estructura de Pila. \n",
    "Luego, el usuario debe elegir un número de veces en que se va a quitar elementos de la pila, los cuales, sumados entre sí, no deben superar el valor de 50.\n",
    "El usuario pierde si la suma supera ese valor. Si no lo supera, gana, pero su calificación será 10 menos el número elementos que falten quitar para todavía no superar 50.\n",
    "El programa debe informar si perdió, y si ganó, con qué calificación lo hizo.\n",
    "\n",
    "Consideraciones:<br>\n",
    "a. Se puede usar la función input() para obtener una entrada de teclado.<br>\n",
    "b. Se puede usar la el modulo random para obtener valores aleatorios."
   ]
  },
  {
   "cell_type": "code",
   "execution_count": null,
   "metadata": {},
   "outputs": [],
   "source": [
    "input('Ingrese numero: ')"
   ]
  },
  {
   "cell_type": "code",
   "execution_count": 22,
   "metadata": {},
   "outputs": [],
   "source": [
    "import random \n",
    "\n",
    "class Estructura_pila(object):\n",
    "\n",
    "    def __init__(self):\n",
    "        self.__list = []\n",
    "        while len(self.__list) < 20:\n",
    "             numero = random.randint(1,21)\n",
    "             if numero not in self.__list:\n",
    "                self.__list.append(numero)\n",
    "    \n",
    "    # Quitar el ultimo elemento de la pila\n",
    "    def __pop(self):\n",
    "        return self.__list.pop()\n",
    "    \n",
    "    # Imprimir la pila completa\n",
    "    def __mostrar(self):\n",
    "        if self.__list: # -> if self.__list == True -> if len(self.__list) > 0:\n",
    "            for item in self.__list:\n",
    "                print(item)\n",
    "        else:\n",
    "            print('No hay elementos')\n",
    "    \n",
    "    # Creamos el metodo jugar\n",
    "\n",
    "    def jugar(self):\n",
    "        # Empieza el juego\n",
    "        while True:\n",
    "            nro = input('Ingrese la cantidad de elementos a retirar: ')\n",
    "\n",
    "            if not nro.isdecimal(): # .isdecimal devuelve True o False, si no es numero -> condicion = False -> va a entrar al if\n",
    "                nro = input('Ingresar la cantidad de elementos a retirar nuevamente: ')\n",
    "            else:\n",
    "                nro = int(nro)\n",
    "                break\n",
    "        \n",
    "        # Empieza la logica \n",
    "        print('Pila original: ')\n",
    "        self.__mostrar()\n",
    "\n",
    "        calificacion = 10\n",
    "        suma = 0 \n",
    "\n",
    "        for i in range(nro):\n",
    "            suma += self.__pop()\n",
    "        print('Pila Obtenida: ')\n",
    "        self.__mostrar()\n",
    "\n",
    "        print(f'Se sumo la cantidad total de: {suma}')\n",
    "\n",
    "        if suma > 50: # Si la suma es mayor a 50, el usuario pierde\n",
    "            print('No cumpliste el objetivo, perdiste :((')\n",
    "        else:  # Si no, tenemos que seguir sumando\n",
    "            while suma <= 50: # Mientras que la suma no supere el valor de 50\n",
    "                suma += self.__pop() # Sumamos un elemento mas\n",
    "                if suma <= 50: # Nos preguntamos si ahora superamos a 50\n",
    "                    calificacion -= 1 # Si no superamos a 50, se quita un punto de calificacion\n",
    "            print(f'OBJETIVO CUMPLIDO !! FELICITACIONES :))) tu calificacion fue de: {calificacion}')\n"
   ]
  },
  {
   "cell_type": "code",
   "execution_count": 20,
   "metadata": {},
   "outputs": [],
   "source": [
    "import random\n",
    "pila= Estructura_pila()\n",
    "for i in range(20):    \n",
    "    num = random.randint(1,21)\n",
    "    pila.push(num)"
   ]
  },
  {
   "cell_type": "code",
   "execution_count": 21,
   "metadata": {},
   "outputs": [
    {
     "name": "stdout",
     "output_type": "stream",
     "text": [
      "15\n",
      "2\n",
      "11\n",
      "20\n",
      "15\n",
      "11\n",
      "18\n",
      "13\n",
      "9\n",
      "16\n",
      "12\n",
      "17\n",
      "11\n",
      "11\n",
      "19\n",
      "9\n",
      "8\n",
      "13\n",
      "1\n",
      "7\n"
     ]
    }
   ],
   "source": [
    "pila.mostrar()"
   ]
  },
  {
   "cell_type": "code",
   "execution_count": 15,
   "metadata": {},
   "outputs": [
    {
     "data": {
      "text/plain": [
       "True"
      ]
     },
     "execution_count": 15,
     "metadata": {},
     "output_type": "execute_result"
    }
   ],
   "source": [
    "(10 +15 +14) < 50"
   ]
  },
  {
   "cell_type": "code",
   "execution_count": 18,
   "metadata": {},
   "outputs": [
    {
     "data": {
      "text/plain": [
       "44"
      ]
     },
     "execution_count": 18,
     "metadata": {},
     "output_type": "execute_result"
    }
   ],
   "source": [
    "39 + 5 "
   ]
  },
  {
   "cell_type": "code",
   "execution_count": null,
   "metadata": {},
   "outputs": [],
   "source": [
    "print('Ingrese el numero: ')"
   ]
  },
  {
   "cell_type": "markdown",
   "metadata": {},
   "source": [
    "2) Implementar un juego donde constas de 2 jarras, de capacidad 5 y 3 litros respectivamente, y debes colocar 4 litros en la jarra de 5L.\n",
    "Las opciones posibles son:\n",
    "* Llenar la jarra de 3 litros\n",
    "* Llenar la jarra de 5 litros\n",
    "* Vaciar la jarra de 3 litros\n",
    "* Vaciar la jarra de 5 litros\n",
    "* Verter el contenido de la jarra de 3 litros en la de 5 litros\n",
    "* Verter el contenido de la jarra de 5 litros en la de 3 litros"
   ]
  },
  {
   "cell_type": "code",
   "execution_count": 19,
   "metadata": {},
   "outputs": [
    {
     "name": "stdout",
     "output_type": "stream",
     "text": [
      "\n",
      "* 1)Llenar la jarra de 3 litros\n",
      "* 2)Llenar la jarra de 5 litros\n",
      "* 3)Vaciar la jarra de 3 litros\n",
      "* 4)Vaciar la jarra de 5 litros\n",
      "* 5)Verter el contenido de la jarra de 3 litros en la de 5 litros\n",
      "* 6)Verter el contenido de la jarra de 5 litros en la de 3 litros\n",
      "* 0) Salir\n",
      "\n",
      "\n",
      "* 1)Llenar la jarra de 3 litros\n",
      "* 2)Llenar la jarra de 5 litros\n",
      "* 3)Vaciar la jarra de 3 litros\n",
      "* 4)Vaciar la jarra de 5 litros\n",
      "* 5)Verter el contenido de la jarra de 3 litros en la de 5 litros\n",
      "* 6)Verter el contenido de la jarra de 5 litros en la de 3 litros\n",
      "* 0) Salir\n",
      "\n"
     ]
    }
   ],
   "source": [
    "menu_opciones = \"\"\"\n",
    "* 1)Llenar la jarra de 3 litros\n",
    "* 2)Llenar la jarra de 5 litros\n",
    "* 3)Vaciar la jarra de 3 litros\n",
    "* 4)Vaciar la jarra de 5 litros\n",
    "* 5)Verter el contenido de la jarra de 3 litros en la de 5 litros\n",
    "* 6)Verter el contenido de la jarra de 5 litros en la de 3 litros\n",
    "* 0) Salir\n",
    "\"\"\"\n",
    "\n",
    "opcion = -1\n",
    "\n",
    "while opcion != 0:\n",
    "    print(menu_opciones)\n",
    "    opcion = int(input('Ingrese una opcion para jugar'))\n",
    "\n",
    "    if opcion == 1:\n",
    "        pass\n",
    "    elif opcion == 2:\n",
    "        pass\n",
    "    elif opcion == 3:\n",
    "        pass\n",
    "    elif opcion == 4:\n",
    "        pass\n",
    "    elif opcion == 5:\n",
    "        pass\n",
    "    elif opcion == 6:\n",
    "        pass\n",
    "    elif opcion == 0:\n",
    "        break   "
   ]
  },
  {
   "cell_type": "code",
   "execution_count": 34,
   "metadata": {},
   "outputs": [],
   "source": [
    "class Jarra():\n",
    "    def __init__(self, cap):\n",
    "        self.__elemento_agua = '*'\n",
    "        self.__elemento_vacio = ' '\n",
    "        self.__capacidad = cap\n",
    "        self.__lista = []\n",
    "        i = 0\n",
    "        while (i < cap):\n",
    "            self.__lista.append(self.__elemento_vacio)\n",
    "            i += 1\n",
    "    \n",
    "    def vaciar(self):\n",
    "        i = 0\n",
    "        while(i < self.__capacidad):\n",
    "            self.__lista[i] = self.__elemento_vacio\n",
    "            i += 1\n",
    "    \n",
    "    def llenar(self):\n",
    "        i = 0\n",
    "        while (i < self.__capacidad):\n",
    "            self.__lista[i] = self.__elemento_agua\n",
    "            i += 1\n",
    "        \"\"\"\n",
    "        for i in range(self.__capacidad):\n",
    "            self.__lista[i] = self.__elemento_agua\n",
    "        \"\"\"\n",
    "    def mostrar_jarra(self):\n",
    "        print(f'Jarra de {self.__capacidad} litros')\n",
    "        for elemento in self.__lista:\n",
    "            print('|',elemento,'|')\n",
    "        print('-----')\n",
    "\n",
    "    def cantidadLitros(self):\n",
    "        cantidad = 0\n",
    "        for elemento in self.__lista:\n",
    "            if (elemento == self.__elemento_agua):\n",
    "                cantidad += 1\n",
    "        return cantidad\n",
    "    \n",
    "    def quitar_litros(self, litros):\n",
    "        i = 0\n",
    "        encontrado = False\n",
    "        while (not encontrado): # encontrado = False\n",
    "          \n",
    "            if (self.__lista[i] == self.__elemento_agua):\n",
    "                encontrado = True\n",
    "            i += 1\n",
    "        \n",
    "        i -= 1\n",
    "        while (litros > 0):\n",
    "            self.__lista[i] = self.__elemento_vacio\n",
    "            i += 1\n",
    "            litros -= 1\n",
    "\n",
    "    def agregar_litros(self, litros):\n",
    "        i = 0\n",
    "        while((i < self.__capacidad) and (self.__lista[i] == self.__elemento_vacio)):\n",
    "            i += 1\n",
    "        while (litros > 0):\n",
    "            i -= 1\n",
    "            self.__lista[i] = self.__elemento_agua\n",
    "            litros -= 1\n",
    "\n",
    "\n"
   ]
  },
  {
   "cell_type": "code",
   "execution_count": 35,
   "metadata": {},
   "outputs": [],
   "source": [
    "j3L = Jarra(3)"
   ]
  },
  {
   "cell_type": "code",
   "execution_count": 37,
   "metadata": {},
   "outputs": [
    {
     "name": "stdout",
     "output_type": "stream",
     "text": [
      "Jarra de 3 litros\n",
      "| * |\n",
      "| * |\n",
      "| * |\n",
      "-----\n"
     ]
    }
   ],
   "source": [
    "j3L.llenar()\n",
    "j3L.mostrar_jarra()"
   ]
  },
  {
   "cell_type": "code",
   "execution_count": 29,
   "metadata": {},
   "outputs": [],
   "source": [
    "jarra = Jarra(3)\n"
   ]
  },
  {
   "cell_type": "code",
   "execution_count": 33,
   "metadata": {},
   "outputs": [
    {
     "data": {
      "text/plain": [
       "8"
      ]
     },
     "execution_count": 33,
     "metadata": {},
     "output_type": "execute_result"
    }
   ],
   "source": [
    "jarra.capacidad = 8\n",
    "jarra.capacidad"
   ]
  },
  {
   "cell_type": "code",
   "execution_count": 38,
   "metadata": {},
   "outputs": [],
   "source": [
    "class JuegoJarras():\n",
    "    def __init__(self):\n",
    "        self.__j3L = Jarra(3)\n",
    "        self.__j5L = Jarra(5)\n",
    "        self.__opciones_validas = ['1','2','3','4','5','6','7']\n",
    "\n",
    "        \n",
    "    def jugar(self):\n",
    "        nro = 0\n",
    "        counter = 0\n",
    "        while nro < 7:\n",
    "            print('JUEGO DE LAS JARRAS !!!:')\n",
    "            print('************************************')\n",
    "            print('1- LLenar la jarra de 3L')\n",
    "            print('2- Llenar la jarra de 5L')\n",
    "            print('3- Vacia la jarra de 3L')\n",
    "            print('4- Vaciar la jarra de 5L')\n",
    "            print('5- Verter el contenido de la jarra de 3L en la de 5L')\n",
    "            print('6- Verter el contenido de la jarra de 5L en la de 3L')\n",
    "            print('7- SALIR')\n",
    "            print('************************************')\n",
    "\n",
    "            self.__j3L.mostrar_jarra()\n",
    "            self.__j5L.mostrar_jarra()\n",
    "            print('************************************')\n",
    "            nro = input('Ingrese una opcion: ')\n",
    "            counter += 1\n",
    "            if nro not in self.__opciones_validas:\n",
    "                nro = 0\n",
    "            else:\n",
    "                nro = int(nro)\n",
    "            \n",
    "            if opcion == 1:\n",
    "                self.__j3L.llenar()\n",
    "            elif opcion == 2:\n",
    "                self.__j5L.llenar()\n",
    "            elif opcion == 3:\n",
    "                self.__j3L.vaciar()\n",
    "            elif opcion == 4:\n",
    "                self.__j5L.vaciar()\n",
    "            elif opcion == 5:\n",
    "                jarra3L = self.__j3L.cantidadLitros()\n",
    "                jarra5L = self.__j5L.cantidadLitros()\n",
    "                disponible_5L = 5 - jarra5L\n",
    "                if disponible_5L < jarra3L:\n",
    "                    intercambio = disponible_5L\n",
    "                else:\n",
    "                    intercambio = jarra3L\n",
    "                \n",
    "                self.__j3L.quitar_litros(intercambio)\n",
    "                self.__j5L.agregar_litros(intercambio)\n",
    "            elif opcion == 6:\n",
    "                jarra3L = self.__j3L.cantidadLitros()\n",
    "                jarra5L = self.__j5L.cantidadLitros()\n",
    "                disponible_3L = 3 - jarra3L\n",
    "                if disponible_3L < jarra5L:\n",
    "                    intercambio = disponible_3L\n",
    "                else:\n",
    "                    intercambio = jarra5L\n",
    "                \n",
    "                self.__j3L.agregar_litros(intercambio)\n",
    "                self.__j5L.quitar_litros(intercambio)\n",
    "            \n",
    "            if (self.__j5L.cantidadLitros() == 4):\n",
    "                print(f'FELICITACIONES !!! TU PUNTAJE ES DE: {100 - counter * 10}')\n",
    "                print('******************************')\n",
    "                self.__j3L.mostrar_jarra()\n",
    "                self.__j5L.mostrar_jarra() # Aca tiene que haber 4Lts\n",
    "                print('*************************')\n",
    "                print('1- Jugar de nuevo')\n",
    "                print('2- Terminar')\n",
    "                nro = input('Porfavor ingrese una opcion: ')\n",
    "                if nro not in self.__opciones_validas:\n",
    "                    nro = 0\n",
    "                else:\n",
    "                    nro = int(nro)\n",
    "                    if nro == 1:\n",
    "                        self.__j3L.vaciar()\n",
    "                        self.__j5L.vaciar()\n",
    "                    elif nro == 2:\n",
    "                        nro = 7"
   ]
  },
  {
   "cell_type": "code",
   "execution_count": 39,
   "metadata": {},
   "outputs": [
    {
     "name": "stdout",
     "output_type": "stream",
     "text": [
      "JUEGO DE LAS JARRAS !!!:\n",
      "************************************\n",
      "1- LLenar la jarra de 3L\n",
      "2- Llenar la jarra de 5L\n",
      "3- Vacia la jarra de 3L\n",
      "4- Vaciar la jarra de 5L\n",
      "5- Verter el contenido de la jarra de 3L en la de 5L\n",
      "6- Verter el contenido de la jarra de 5L en la de 3L\n",
      "7- SALIR\n",
      "************************************\n",
      "Jarra de 3 litros\n",
      "|   |\n",
      "|   |\n",
      "|   |\n",
      "-----\n",
      "Jarra de 5 litros\n",
      "|   |\n",
      "|   |\n",
      "|   |\n",
      "|   |\n",
      "|   |\n",
      "-----\n",
      "************************************\n",
      "JUEGO DE LAS JARRAS !!!:\n",
      "************************************\n",
      "1- LLenar la jarra de 3L\n",
      "2- Llenar la jarra de 5L\n",
      "3- Vacia la jarra de 3L\n",
      "4- Vaciar la jarra de 5L\n",
      "5- Verter el contenido de la jarra de 3L en la de 5L\n",
      "6- Verter el contenido de la jarra de 5L en la de 3L\n",
      "7- SALIR\n",
      "************************************\n",
      "Jarra de 3 litros\n",
      "|   |\n",
      "|   |\n",
      "|   |\n",
      "-----\n",
      "Jarra de 5 litros\n",
      "|   |\n",
      "|   |\n",
      "|   |\n",
      "|   |\n",
      "|   |\n",
      "-----\n",
      "************************************\n"
     ]
    }
   ],
   "source": [
    "juego = JuegoJarras()\n",
    "juego.jugar()"
   ]
  },
  {
   "cell_type": "code",
   "execution_count": 40,
   "metadata": {},
   "outputs": [],
   "source": [
    "class Node:\n",
    "    def __init__(self, val):\n",
    "        self.__data = val\n",
    "        self.__next = None\n",
    "    \n",
    "    def getData(self):\n",
    "        return self.__data\n",
    "    \n",
    "    def getNext(self):\n",
    "        return self.__next\n",
    "    \n",
    "    def setData(self, val):\n",
    "        self.__data = val\n",
    "    \n",
    "    def setNext(self, val):\n",
    "        self.__next = val"
   ]
  },
  {
   "cell_type": "code",
   "execution_count": 151,
   "metadata": {},
   "outputs": [],
   "source": [
    "n1 = Node(1)\n",
    "n2 = Node(8)"
   ]
  },
  {
   "cell_type": "code",
   "execution_count": 157,
   "metadata": {},
   "outputs": [
    {
     "name": "stdout",
     "output_type": "stream",
     "text": [
      "1\n",
      "8\n"
     ]
    }
   ],
   "source": [
    "print(n1.getData())\n",
    "print(n2.getData())"
   ]
  },
  {
   "cell_type": "code",
   "execution_count": 156,
   "metadata": {},
   "outputs": [],
   "source": [
    "n1.__data = 38"
   ]
  },
  {
   "cell_type": "code",
   "execution_count": 44,
   "metadata": {},
   "outputs": [
    {
     "name": "stdout",
     "output_type": "stream",
     "text": [
      "None\n",
      "None\n"
     ]
    }
   ],
   "source": [
    "print(n1.getNext())\n",
    "print(n2.getNext())"
   ]
  },
  {
   "cell_type": "code",
   "execution_count": 52,
   "metadata": {},
   "outputs": [],
   "source": [
    "n1.setNext(n2)"
   ]
  },
  {
   "cell_type": "code",
   "execution_count": 53,
   "metadata": {},
   "outputs": [
    {
     "name": "stdout",
     "output_type": "stream",
     "text": [
      "<__main__.Node object at 0x000001D5B8B53DD0>\n",
      "None\n"
     ]
    }
   ],
   "source": [
    "print(n1.getNext())\n",
    "print(n2.getNext())"
   ]
  },
  {
   "cell_type": "code",
   "execution_count": 61,
   "metadata": {},
   "outputs": [],
   "source": [
    "n1.getNext().setData(2)"
   ]
  },
  {
   "cell_type": "code",
   "execution_count": 131,
   "metadata": {},
   "outputs": [],
   "source": [
    "class LinkedList:\n",
    "    def __init__(self):\n",
    "        self.head = None\n",
    "\n",
    "    def isEmpty(self):\n",
    "        \"\"\"La lista esta vacia?\"\"\"\n",
    "        if self.head == None:\n",
    "            return True\n",
    "        else:\n",
    "            return False\n",
    "    \n",
    "    def add(self, item):\n",
    "        \"\"\"Añadir un item a la lista\"\"\"\n",
    "        new_node = Node(item)\n",
    "        new_node.setNext(self.head)\n",
    "        self.head = new_node\n",
    "\n",
    "    def size(self):\n",
    "        \"\"\"Cantidad de nodos en la lista\"\"\"\n",
    "        count = 0\n",
    "        puntero = self.head\n",
    "        while not (puntero == None):# Mientras que el puntero no sea igual a None\n",
    "            count += 1\n",
    "            puntero = puntero.getNext()\n",
    "        return count\n",
    "\n",
    "    def search(self, item):\n",
    "        \"\"\"Buscar un item dentro de la lista, si lo encuentra return True, sino return False\"\"\"\n",
    "        puntero = self.head\n",
    "        found = False\n",
    "        while ((puntero != None) and not found):\n",
    "            if puntero.getData() == item:\n",
    "                found = True\n",
    "            else:\n",
    "                puntero = puntero.getNext()\n",
    "\n",
    "        return found\n",
    "\n",
    "    def remove(self, item):\n",
    "        \"\"\"Eliminar el item de la lista, si no lo encuentra ValueError\"\"\"\n",
    "        puntero = self.head\n",
    "        anterior = None\n",
    "        found = False\n",
    "\n",
    "        while ((puntero != None) and (not found)):\n",
    "            if (puntero.getData() == item):\n",
    "                found = True\n",
    "            else:\n",
    "                anterior = puntero\n",
    "                puntero = puntero.getNext()\n",
    "        \n",
    "        if found:\n",
    "            if anterior == None:\n",
    "                self.head = puntero.getNext()\n",
    "            else:\n",
    "                anterior.setNext(puntero.getNext())\n",
    "            \n",
    "        else:\n",
    "            raise ValueError ('Item no encontrado')\n",
    "        \n",
    "\n",
    "    def insert(self, posicion, item):\n",
    "        \"\"\"\n",
    "        Insertar un item en la posicion especificada.\n",
    "        IndexError\n",
    "        \"\"\"\n",
    "\n",
    "        if posicion > self.size() - 1:\n",
    "            raise IndexError ('Index fuera de rango')\n",
    "        \n",
    "        puntero = self.head\n",
    "        anterior = None\n",
    "        pos = 0\n",
    "        if posicion == 0:\n",
    "            self.add(item)\n",
    "        else:\n",
    "            new_node = Node(item)\n",
    "            while pos < posicion:\n",
    "                pos += 1\n",
    "                anterior = puntero\n",
    "                puntero = puntero.getNext()\n",
    "            anterior.setNext(new_node)\n",
    "            new_node.setNext(puntero)\n",
    "        \n",
    "    def index(self, item):\n",
    "        \"\"\" Devuelve el index donde el item es encontrado\"\"\"\n",
    "        puntero = self.head\n",
    "        pos = 0\n",
    "        found = False\n",
    "\n",
    "        while ((puntero != None) and (not found)):\n",
    "            if (puntero.getData() == item):\n",
    "                found = True\n",
    "            else:\n",
    "                puntero = puntero.getNext()\n",
    "                pos += 1\n",
    "        if not found:\n",
    "            pos = None\n",
    "        \n",
    "        return pos\n",
    "\n",
    "    def pop(self, posicion = None):\n",
    "        \"\"\"Si no hay argumento, elimina el head\n",
    "        Si le pasamos una posicion, devuelve y elimina el elemento en esa posicion.\n",
    "        \"\"\"\n",
    "\n",
    "        puntero = self.head\n",
    "        if posicion == None:\n",
    "            ret = puntero.getData()\n",
    "            self.head = puntero.getNext()\n",
    "        else:\n",
    "            if posicion > self.size():\n",
    "                raise IndexError ('Index fuera del rango')\n",
    "\n",
    "            pos = 0\n",
    "            anterior = None\n",
    "            while pos < posicion:\n",
    "                anterior = puntero\n",
    "                puntero = puntero.getNext()\n",
    "                pos += 1\n",
    "                ret = puntero.getData()\n",
    "            \n",
    "            anterior.setNext(puntero.getNext())\n",
    "\n",
    "            return ret\n",
    "        \n",
    "    def append(self,item):\n",
    "        \"\"\"Agregar un elemento al final de la lista\"\"\"\n",
    "        puntero = self.head\n",
    "        pos = 0\n",
    "        anterior = None\n",
    "        largo = self.size()\n",
    "\n",
    "        while pos < largo:\n",
    "            anterior = puntero\n",
    "            puntero = puntero.getNext()\n",
    "            pos += 1\n",
    "        new_node = Node(item)\n",
    "        if anterior == None:\n",
    "            new_node.setNext(puntero)\n",
    "            self.head = new_node\n",
    "        else:\n",
    "            anterior.setNext(new_node)\n",
    "    \n",
    "    def printList(self):\n",
    "        \"\"\"Imprime la lista en pantalla\"\"\"\n",
    "        puntero = self.head\n",
    "\n",
    "        while not(puntero == None):\n",
    "            print(puntero.getData())\n",
    "            puntero = puntero.getNext()\n",
    "\n"
   ]
  },
  {
   "cell_type": "code",
   "execution_count": 132,
   "metadata": {},
   "outputs": [],
   "source": [
    "lis = LinkedList()"
   ]
  },
  {
   "cell_type": "code",
   "execution_count": 86,
   "metadata": {},
   "outputs": [
    {
     "name": "stdout",
     "output_type": "stream",
     "text": [
      "None\n",
      "True\n"
     ]
    }
   ],
   "source": [
    "print(lis.head)\n",
    "print(lis.isEmpty())"
   ]
  },
  {
   "cell_type": "code",
   "execution_count": 133,
   "metadata": {},
   "outputs": [],
   "source": [
    "lis.add('Rojo')"
   ]
  },
  {
   "cell_type": "code",
   "execution_count": 134,
   "metadata": {},
   "outputs": [
    {
     "data": {
      "text/plain": [
       "1"
      ]
     },
     "execution_count": 134,
     "metadata": {},
     "output_type": "execute_result"
    }
   ],
   "source": [
    "lis.size()"
   ]
  },
  {
   "cell_type": "code",
   "execution_count": 135,
   "metadata": {},
   "outputs": [],
   "source": [
    "lis.add('Azul')\n",
    "lis.add('Verde')\n",
    "lis.add('Amarillo')"
   ]
  },
  {
   "cell_type": "code",
   "execution_count": 81,
   "metadata": {},
   "outputs": [
    {
     "data": {
      "text/plain": [
       "'Amarillo'"
      ]
     },
     "execution_count": 81,
     "metadata": {},
     "output_type": "execute_result"
    }
   ],
   "source": [
    "lis.head.getData()"
   ]
  },
  {
   "cell_type": "code",
   "execution_count": 136,
   "metadata": {},
   "outputs": [],
   "source": [
    "lis.add(81)"
   ]
  },
  {
   "cell_type": "code",
   "execution_count": 83,
   "metadata": {},
   "outputs": [
    {
     "data": {
      "text/plain": [
       "81"
      ]
     },
     "execution_count": 83,
     "metadata": {},
     "output_type": "execute_result"
    }
   ],
   "source": [
    "lis.head.getData()"
   ]
  },
  {
   "cell_type": "code",
   "execution_count": 116,
   "metadata": {},
   "outputs": [
    {
     "data": {
      "text/plain": [
       "False"
      ]
     },
     "execution_count": 116,
     "metadata": {},
     "output_type": "execute_result"
    }
   ],
   "source": [
    "lis.search('89')"
   ]
  },
  {
   "cell_type": "code",
   "execution_count": 118,
   "metadata": {},
   "outputs": [
    {
     "ename": "ValueError",
     "evalue": "Item no encontrado",
     "output_type": "error",
     "traceback": [
      "\u001b[1;31m---------------------------------------------------------------------------\u001b[0m",
      "\u001b[1;31mValueError\u001b[0m                                Traceback (most recent call last)",
      "Cell \u001b[1;32mIn[118], line 1\u001b[0m\n\u001b[1;32m----> 1\u001b[0m lis\u001b[39m.\u001b[39;49mremove(\u001b[39m'\u001b[39;49m\u001b[39m89\u001b[39;49m\u001b[39m'\u001b[39;49m)\n",
      "Cell \u001b[1;32mIn[111], line 59\u001b[0m, in \u001b[0;36mLinkedList.remove\u001b[1;34m(self, item)\u001b[0m\n\u001b[0;32m     56\u001b[0m         anterior\u001b[39m.\u001b[39msetNext(puntero\u001b[39m.\u001b[39mgetNext())\n\u001b[0;32m     58\u001b[0m \u001b[39melse\u001b[39;00m:\n\u001b[1;32m---> 59\u001b[0m     \u001b[39mraise\u001b[39;00m \u001b[39mValueError\u001b[39;00m (\u001b[39m'\u001b[39m\u001b[39mItem no encontrado\u001b[39m\u001b[39m'\u001b[39m)\n",
      "\u001b[1;31mValueError\u001b[0m: Item no encontrado"
     ]
    }
   ],
   "source": [
    "lis.remove('89')"
   ]
  },
  {
   "cell_type": "code",
   "execution_count": 137,
   "metadata": {},
   "outputs": [],
   "source": [
    "lis.insert(3,'Marron')"
   ]
  },
  {
   "cell_type": "code",
   "execution_count": 138,
   "metadata": {},
   "outputs": [],
   "source": [
    "lis.add('Violeta')"
   ]
  },
  {
   "cell_type": "code",
   "execution_count": 130,
   "metadata": {},
   "outputs": [
    {
     "name": "stdout",
     "output_type": "stream",
     "text": [
      "4\n"
     ]
    }
   ],
   "source": [
    "print(lis.index('Marron'))"
   ]
  },
  {
   "cell_type": "code",
   "execution_count": 139,
   "metadata": {},
   "outputs": [],
   "source": [
    "lis.append('Lila')"
   ]
  },
  {
   "cell_type": "code",
   "execution_count": 141,
   "metadata": {},
   "outputs": [],
   "source": [
    "lis.add('Morado')\n",
    "lis.insert(5,'Magenta')\n",
    "lis.append('Kiwi')"
   ]
  },
  {
   "cell_type": "code",
   "execution_count": 149,
   "metadata": {},
   "outputs": [
    {
     "name": "stdout",
     "output_type": "stream",
     "text": [
      "Violeta\n",
      "81\n",
      "Amarillo\n",
      "Verde\n",
      "Marron\n",
      "Azul\n",
      "Rojo\n",
      "Lila\n",
      "Kiwi\n"
     ]
    }
   ],
   "source": [
    "lis.printList()"
   ]
  },
  {
   "cell_type": "code",
   "execution_count": 145,
   "metadata": {},
   "outputs": [
    {
     "data": {
      "text/plain": [
       "10"
      ]
     },
     "execution_count": 145,
     "metadata": {},
     "output_type": "execute_result"
    }
   ],
   "source": [
    "lis.index('Kiwi')"
   ]
  },
  {
   "cell_type": "code",
   "execution_count": 148,
   "metadata": {},
   "outputs": [
    {
     "data": {
      "text/plain": [
       "'Magenta'"
      ]
     },
     "execution_count": 148,
     "metadata": {},
     "output_type": "execute_result"
    }
   ],
   "source": [
    "lis.pop(4)"
   ]
  },
  {
   "cell_type": "code",
   "execution_count": 150,
   "metadata": {},
   "outputs": [
    {
     "data": {
      "text/plain": [
       "9"
      ]
     },
     "execution_count": 150,
     "metadata": {},
     "output_type": "execute_result"
    }
   ],
   "source": [
    "lis.size()"
   ]
  },
  {
   "cell_type": "code",
   "execution_count": null,
   "metadata": {},
   "outputs": [],
   "source": []
  }
 ],
 "metadata": {
  "kernelspec": {
   "display_name": "Python 3.11.3 64-bit",
   "language": "python",
   "name": "python3"
  },
  "language_info": {
   "codemirror_mode": {
    "name": "ipython",
    "version": 3
   },
   "file_extension": ".py",
   "mimetype": "text/x-python",
   "name": "python",
   "nbconvert_exporter": "python",
   "pygments_lexer": "ipython3",
   "version": "3.11.3"
  },
  "vscode": {
   "interpreter": {
    "hash": "52634da84371cba311ea128a5ea7cdc41ff074b781779e754b270ff9f8153cee"
   }
  }
 },
 "nbformat": 4,
 "nbformat_minor": 4
}
