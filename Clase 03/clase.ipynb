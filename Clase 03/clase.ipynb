{
 "cells": [
  {
   "cell_type": "markdown",
   "metadata": {},
   "source": [
    "# Práctica Clase 2"
   ]
  },
  {
   "cell_type": "markdown",
   "metadata": {},
   "source": [
    "1) Abrir el archivo \"Emisiones_CO2.csv\" y cargar sus datos en un diccionario."
   ]
  },
  {
   "cell_type": "code",
   "execution_count": null,
   "metadata": {},
   "outputs": [],
   "source": [
    "with open('Emisiones_CO2.csv','r') as file:\n",
    "    data = file.read()\n",
    "data"
   ]
  },
  {
   "cell_type": "code",
   "execution_count": 67,
   "metadata": {},
   "outputs": [],
   "source": [
    "archivo = open('Emisiones_CO2.csv', 'r', encoding='latin-1') # r -> read; w -> write; rt -> read text; wb -> write binary"
   ]
  },
  {
   "cell_type": "code",
   "execution_count": 68,
   "metadata": {},
   "outputs": [],
   "source": [
    "dicc_emisiones = {  'cod_pais' : [], #0\n",
    "                    'nom_pais' : [], #1\n",
    "                    'region' : [], #2\n",
    "                    'anio' : [], #3\n",
    "                    'co2' : [],#4\n",
    "                    'co2_percapita' : []}#5"
   ]
  },
  {
   "cell_type": "code",
   "execution_count": 37,
   "metadata": {},
   "outputs": [
    {
     "data": {
      "text/plain": [
       "[]"
      ]
     },
     "execution_count": 37,
     "metadata": {},
     "output_type": "execute_result"
    }
   ],
   "source": [
    "dicc_emisiones['cod_pais'].append(campo[0])"
   ]
  },
  {
   "cell_type": "code",
   "execution_count": null,
   "metadata": {},
   "outputs": [],
   "source": [
    "campo = ['ABW','Aruba','América Latina y Caribe','1960']\n",
    "campo[0]"
   ]
  },
  {
   "cell_type": "code",
   "execution_count": 69,
   "metadata": {},
   "outputs": [],
   "source": [
    "next(archivo) #Eliminamos el encabezado (o los nombres de las columnas)\n",
    "for linea in archivo:\n",
    "    linea = linea.strip()\n",
    "    campos = linea.split(sep='|')\n",
    "    dicc_emisiones['cod_pais'].append(campos[0])\n",
    "    dicc_emisiones['nom_pais'].append(campos[1])\n",
    "    dicc_emisiones['region'].append(campos[2])\n",
    "    dicc_emisiones['anio'].append(campos[3])\n",
    "    dicc_emisiones['co2'].append(campos[4])\n",
    "    dicc_emisiones['co2_percapita'].append(campos[5])\n"
   ]
  },
  {
   "cell_type": "code",
   "execution_count": null,
   "metadata": {},
   "outputs": [],
   "source": []
  },
  {
   "cell_type": "code",
   "execution_count": 49,
   "metadata": {},
   "outputs": [
    {
     "name": "stdout",
     "output_type": "stream",
     "text": [
      "AFG\n",
      "Afganistán\n",
      "Sur de Asia\n",
      "1966\n",
      "1.092,77\n",
      "0,10767397\n",
      "\n"
     ]
    }
   ],
   "source": [
    "i = 110\n",
    "print(dicc_emisiones['cod_pais'][i])\n",
    "print(dicc_emisiones['nom_pais'][i])\n",
    "print(dicc_emisiones['region'][i])\n",
    "print(dicc_emisiones['anio'][i])\n",
    "print(dicc_emisiones['co2'][i])\n",
    "print(dicc_emisiones['co2_percapita'][i])"
   ]
  },
  {
   "cell_type": "code",
   "execution_count": 51,
   "metadata": {},
   "outputs": [
    {
     "name": "stdout",
     "output_type": "stream",
     "text": [
      "Chaauu\n"
     ]
    }
   ],
   "source": [
    "if True:\n",
    "    print('Holaaa')\n",
    "else:\n",
    "    print('Chaauu')"
   ]
  },
  {
   "cell_type": "code",
   "execution_count": null,
   "metadata": {},
   "outputs": [],
   "source": [
    "if encabezado == False --> if not encabezado"
   ]
  },
  {
   "cell_type": "code",
   "execution_count": null,
   "metadata": {},
   "outputs": [],
   "source": [
    "archivo = open('Emisiones_CO2.csv', 'r', encoding='latin-1')\n",
    "conta = 0\n",
    "encabezado = True #Bandera\n",
    "for linea in archivo:\n",
    "    if encabezado == False: # if not encabezado; if conta > 2:\n",
    "        linea = linea.strip()\n",
    "        campos = linea.split(sep='|')\n",
    "        dicc_emisiones['cod_pais'].append(campos[0])\n",
    "        dicc_emisiones['nom_pais'].append(campos[1])\n",
    "        dicc_emisiones['region'].append(campos[2])\n",
    "        dicc_emisiones['anio'].append(campos[3])\n",
    "        dicc_emisiones['co2'].append(campos[4])\n",
    "        dicc_emisiones['co2_percapita'].append(campos[5])\n",
    "    else:\n",
    "        encabezado = False # conta += 1"
   ]
  },
  {
   "cell_type": "code",
   "execution_count": 52,
   "metadata": {},
   "outputs": [],
   "source": [
    "archivo.close()"
   ]
  },
  {
   "cell_type": "markdown",
   "metadata": {},
   "source": [
    "2) a) ¿Cuántas variables hay? <br>\n",
    "b) ¿Qué tipos de datos usar para cada una? <br>\n",
    "c) ¿Qué tipo de variables son? <br>\n",
    "d) ¿Hay valores faltantes? <br>\n",
    "e) ¿Cuál es el total de emisiones de CO2 para 'América Latina y Caribe' en el año 2010?"
   ]
  },
  {
   "cell_type": "code",
   "execution_count": 54,
   "metadata": {},
   "outputs": [
    {
     "name": "stdout",
     "output_type": "stream",
     "text": [
      "La cantidad de variables existentes es de: 6\n"
     ]
    }
   ],
   "source": [
    "print(f'La cantidad de variables existentes es de: {len(dicc_emisiones.keys())}')"
   ]
  },
  {
   "cell_type": "code",
   "execution_count": 55,
   "metadata": {},
   "outputs": [
    {
     "name": "stdout",
     "output_type": "stream",
     "text": [
      "La cantidad de variables existentes es de: 6\n"
     ]
    }
   ],
   "source": [
    "print('La cantidad de variables existentes es de: {0}'.format(len(dicc_emisiones.keys())))"
   ]
  },
  {
   "cell_type": "code",
   "execution_count": 62,
   "metadata": {},
   "outputs": [
    {
     "name": "stdout",
     "output_type": "stream",
     "text": [
      "ABW\n",
      "Aruba\n",
      "América Latina y Caribe\n",
      "1960\n",
      "None\n",
      "\n",
      "\n"
     ]
    }
   ],
   "source": [
    "i = 0\n",
    "print(dicc_emisiones['cod_pais'][i])\n",
    "print(dicc_emisiones['nom_pais'][i])\n",
    "print(dicc_emisiones['region'][i])\n",
    "print(dicc_emisiones['anio'][i])\n",
    "print(dicc_emisiones['co2'][i])\n",
    "print(dicc_emisiones['co2_percapita'][i]) # '\\n'"
   ]
  },
  {
   "cell_type": "code",
   "execution_count": null,
   "metadata": {},
   "outputs": [],
   "source": []
  },
  {
   "cell_type": "code",
   "execution_count": 70,
   "metadata": {},
   "outputs": [],
   "source": [
    "for indice, elemento in enumerate(dicc_emisiones['co2']):\n",
    "    # 1.092,77\n",
    "    elemento = elemento.replace('.','') # 1092,77\n",
    "    elemento = elemento.replace(',','.') # 1092.77 -> str\n",
    "    if elemento != '':\n",
    "        elemento = float(elemento) \n",
    "    else:\n",
    "        elemento = None\n",
    "    dicc_emisiones['co2'][indice] = elemento\n",
    "\n",
    "# 1.092.77"
   ]
  },
  {
   "cell_type": "code",
   "execution_count": 71,
   "metadata": {},
   "outputs": [],
   "source": [
    "for indice, elemento in enumerate(dicc_emisiones['co2_percapita']):\n",
    "    elemento = elemento.replace('\\n','') #'0,10767397\\n'\n",
    "    elemento = elemento.replace('.','')\n",
    "    elemento = elemento.replace(',','.')\n",
    "    if elemento != '':\n",
    "        elemento = float(elemento)\n",
    "    else:\n",
    "        elemento = None\n",
    "\n",
    "    dicc_emisiones['co2_percapita'][indice] = elemento\n"
   ]
  },
  {
   "cell_type": "markdown",
   "metadata": {},
   "source": [
    "cod_pais: Cualitativa - Categórica\n",
    "\n",
    "nom_pais: Cualitativa - Categórica\n",
    "\n",
    "region: Cualitativa - Categórica \n",
    "\n",
    "anio: Cuantitativa - Discreto\n",
    "\n",
    "co2: Cuantitativa - Continuo\n",
    "\n",
    "co2_percapita: Cuantitativa - Continuo\n"
   ]
  },
  {
   "cell_type": "code",
   "execution_count": 72,
   "metadata": {},
   "outputs": [
    {
     "data": {
      "text/plain": [
       "[str, str, str, str, float, float]"
      ]
     },
     "execution_count": 72,
     "metadata": {},
     "output_type": "execute_result"
    }
   ],
   "source": [
    "[type(i[110]) for i in dicc_emisiones.values()]"
   ]
  },
  {
   "cell_type": "code",
   "execution_count": 75,
   "metadata": {},
   "outputs": [
    {
     "name": "stdout",
     "output_type": "stream",
     "text": [
      "Existen 4193 valores faltantes\n"
     ]
    }
   ],
   "source": [
    "contador=0\n",
    "\n",
    "for k in dicc_emisiones.keys():\n",
    "    for v in dicc_emisiones[k]:\n",
    "        if v==None or v=='\\n':\n",
    "            contador+=1\n",
    "\n",
    "print(f'Existen {contador} valores faltantes')"
   ]
  },
  {
   "cell_type": "code",
   "execution_count": 78,
   "metadata": {},
   "outputs": [
    {
     "name": "stdout",
     "output_type": "stream",
     "text": [
      "La cantidad total de emisiones en América Latina y Caribe para el año 2010 fueron de 1691634.8009999995kt\n"
     ]
    }
   ],
   "source": [
    "filtro_region = 'América Latina y Caribe'#1\n",
    "filtro_anio = '2010' #2\n",
    "contador = 0\n",
    "\n",
    "for indice, elemento in enumerate(dicc_emisiones['region']):\n",
    "    if (dicc_emisiones['region'][indice] == filtro_region) and (dicc_emisiones['anio'][indice] == filtro_anio) and (dicc_emisiones['co2'][indice] != None):\n",
    "        contador += dicc_emisiones['co2'][indice]\n",
    "    \n",
    "print(f'La cantidad total de emisiones en {filtro_region} para el año {filtro_anio} fueron de {contador}kt')"
   ]
  },
  {
   "cell_type": "code",
   "execution_count": 79,
   "metadata": {},
   "outputs": [
    {
     "name": "stdout",
     "output_type": "stream",
     "text": [
      "La cantidad total de emisiones en América Latina y Caribe para el año 2010 fueron de 1691634.8009999995kt\n"
     ]
    }
   ],
   "source": [
    "contador = 0\n",
    "for indice, elemento in enumerate(dicc_emisiones['region']):\n",
    "    if (dicc_emisiones['region'][indice] == filtro_region):\n",
    "        if (dicc_emisiones['anio'][indice] == filtro_anio):\n",
    "            if (dicc_emisiones['co2'][indice] != None):\n",
    "                contador += dicc_emisiones['co2'][indice]\n",
    "    \n",
    "print(f'La cantidad total de emisiones en {filtro_region} para el año {filtro_anio} fueron de {contador}kt')"
   ]
  },
  {
   "cell_type": "code",
   "execution_count": null,
   "metadata": {},
   "outputs": [],
   "source": [
    "suma_co2 = 0\n",
    "\n",
    "for linea in archivo:\n",
    "    campos = linea.split('|')\n",
    "    if 'América Latina y Caribe' in campos and '2010' in campos:\n",
    "        co2_str = campos[4].replace('.', '')  # Eliminar las comas de los miles\n",
    "        co2_str = co2_str.replace(',', '.')  # Reemplazar el punto decimal por un punto\n",
    "        if co2_str != '' or co2_str != '\\n':\n",
    "            co2 = float(co2_str)\n",
    "            suma_co2 += co2\n",
    "\n",
    "\n",
    "\n",
    "print(\"La suma de la columna 'co2' es:\", suma_co2)\n"
   ]
  },
  {
   "cell_type": "code",
   "execution_count": 80,
   "metadata": {},
   "outputs": [
    {
     "name": "stdout",
     "output_type": "stream",
     "text": [
      "Requirement already satisfied: numpy in c:\\python\\lib\\site-packages (1.24.2)\n"
     ]
    },
    {
     "name": "stderr",
     "output_type": "stream",
     "text": [
      "\n",
      "[notice] A new release of pip is available: 23.0.1 -> 23.1.2\n",
      "[notice] To update, run: python.exe -m pip install --upgrade pip\n"
     ]
    }
   ],
   "source": [
    "%pip install numpy"
   ]
  },
  {
   "cell_type": "code",
   "execution_count": 82,
   "metadata": {},
   "outputs": [],
   "source": [
    "import numpy as np"
   ]
  },
  {
   "cell_type": "code",
   "execution_count": 84,
   "metadata": {},
   "outputs": [
    {
     "name": "stdout",
     "output_type": "stream",
     "text": [
      "[1 2 3 4 5 6]\n"
     ]
    }
   ],
   "source": [
    "my_list = [1,2,3,4,5,6]\n",
    "arr = np.array(my_list)\n",
    "print(arr)"
   ]
  },
  {
   "cell_type": "code",
   "execution_count": 91,
   "metadata": {},
   "outputs": [
    {
     "name": "stdout",
     "output_type": "stream",
     "text": [
      "[2 3 4 5 6 7 8 9]\n"
     ]
    }
   ],
   "source": [
    "print(np.arange(start=2,stop=10,step=1))"
   ]
  },
  {
   "cell_type": "code",
   "execution_count": 94,
   "metadata": {},
   "outputs": [
    {
     "name": "stdout",
     "output_type": "stream",
     "text": [
      "[0.  0.1 0.2 0.3 0.4 0.5 0.6 0.7 0.8 0.9 1. ]\n"
     ]
    }
   ],
   "source": [
    "print(np.linspace(0,1,11))"
   ]
  },
  {
   "cell_type": "code",
   "execution_count": 92,
   "metadata": {},
   "outputs": [
    {
     "name": "stdout",
     "output_type": "stream",
     "text": [
      "[0. 0. 0. 0. 0. 0.]\n"
     ]
    }
   ],
   "source": [
    "print(np.zeros(6))"
   ]
  },
  {
   "cell_type": "code",
   "execution_count": 93,
   "metadata": {},
   "outputs": [
    {
     "name": "stdout",
     "output_type": "stream",
     "text": [
      "[1. 1. 1. 1.]\n"
     ]
    }
   ],
   "source": [
    "print(np.ones(4))"
   ]
  },
  {
   "cell_type": "code",
   "execution_count": 96,
   "metadata": {},
   "outputs": [
    {
     "name": "stdout",
     "output_type": "stream",
     "text": [
      "<class 'numpy.float64'>\n"
     ]
    }
   ],
   "source": [
    "arr = np.ones(4)\n",
    "print(type(arr[0]))"
   ]
  },
  {
   "cell_type": "code",
   "execution_count": 100,
   "metadata": {},
   "outputs": [
    {
     "name": "stdout",
     "output_type": "stream",
     "text": [
      "[[7 7 7 7]\n",
      " [7 7 7 7]]\n"
     ]
    }
   ],
   "source": [
    "print(np.full(shape=(2,4), fill_value=7))"
   ]
  },
  {
   "cell_type": "code",
   "execution_count": 120,
   "metadata": {},
   "outputs": [
    {
     "name": "stdout",
     "output_type": "stream",
     "text": [
      "[ 1.  2.  3.  4.  5.  6.  7.  8.  9. 10.]\n"
     ]
    }
   ],
   "source": [
    "print(np.linspace(start=1,stop=10,num=10))"
   ]
  },
  {
   "cell_type": "code",
   "execution_count": 110,
   "metadata": {},
   "outputs": [
    {
     "name": "stdout",
     "output_type": "stream",
     "text": [
      "[2. 3. 4. 5. 6.]\n"
     ]
    }
   ],
   "source": [
    "base = np.linspace(start=2,stop=6,num=5)\n",
    "print(base)"
   ]
  },
  {
   "cell_type": "code",
   "execution_count": 126,
   "metadata": {},
   "outputs": [
    {
     "name": "stdout",
     "output_type": "stream",
     "text": [
      "[[5. 5. 5. 5. 5. 5.]\n",
      " [5. 5. 5. 5. 5. 5.]]\n"
     ]
    }
   ],
   "source": [
    "base = np.full(shape=(2,6), fill_value=4.41) # Array base dimension (2,6) y valores 4.41\n",
    "\n",
    "\n",
    "print(np.full_like(base, '5')) # Array que toma su dimension (2,6) y lo llena con un valor (np.pi)"
   ]
  },
  {
   "cell_type": "code",
   "execution_count": 115,
   "metadata": {},
   "outputs": [
    {
     "name": "stdout",
     "output_type": "stream",
     "text": [
      "[[4.41 4.41 4.41 4.41 4.41 4.41]\n",
      " [4.41 4.41 4.41 4.41 4.41 4.41]]\n"
     ]
    }
   ],
   "source": [
    "print(base)"
   ]
  },
  {
   "cell_type": "code",
   "execution_count": 144,
   "metadata": {},
   "outputs": [
    {
     "name": "stdout",
     "output_type": "stream",
     "text": [
      "[[0.85715403 0.08201984]\n",
      " [0.36699599 0.28918863]\n",
      " [0.7679411  0.60207474]\n",
      " [0.37440525 0.10718633]]\n"
     ]
    }
   ],
   "source": [
    "print(np.random.rand(4,2))"
   ]
  },
  {
   "cell_type": "code",
   "execution_count": null,
   "metadata": {},
   "outputs": [],
   "source": [
    "print(np.random.randint())"
   ]
  },
  {
   "cell_type": "code",
   "execution_count": 149,
   "metadata": {},
   "outputs": [
    {
     "name": "stdout",
     "output_type": "stream",
     "text": [
      "[[9.58510989 3.08136342]\n",
      " [0.98474617 7.15247698]]\n"
     ]
    }
   ],
   "source": [
    "print(np.random.uniform(low=0, high=10, size=(2,2)))"
   ]
  },
  {
   "cell_type": "code",
   "execution_count": 147,
   "metadata": {},
   "outputs": [
    {
     "name": "stdout",
     "output_type": "stream",
     "text": [
      "[[ 0.96793339 -0.90315148]\n",
      " [-0.9137118   0.02101676]\n",
      " [-0.60041987 -0.51687325]\n",
      " [-0.35282153  1.26117845]]\n"
     ]
    }
   ],
   "source": [
    "print(np.random.randn(4,2))"
   ]
  },
  {
   "cell_type": "code",
   "execution_count": 157,
   "metadata": {},
   "outputs": [
    {
     "name": "stdout",
     "output_type": "stream",
     "text": [
      "[6.7422238  5.90613371 5.70033488 0.86992293 5.21175229 5.87002723]\n"
     ]
    }
   ],
   "source": [
    "print(np.random.normal(loc=5, scale=2, size=6)) # Dist normal"
   ]
  },
  {
   "cell_type": "code",
   "execution_count": 159,
   "metadata": {},
   "outputs": [
    {
     "name": "stdout",
     "output_type": "stream",
     "text": [
      "[1 2 3 4 5 6 7 8 9]\n",
      "(9,)\n"
     ]
    }
   ],
   "source": [
    "arr = np.arange(1,10)\n",
    "print(arr)\n",
    "print(arr.shape)"
   ]
  },
  {
   "cell_type": "code",
   "execution_count": 166,
   "metadata": {},
   "outputs": [
    {
     "name": "stdout",
     "output_type": "stream",
     "text": [
      "[[1 2 3]\n",
      " [4 5 6]\n",
      " [7 8 9]]\n"
     ]
    }
   ],
   "source": [
    "b = np.reshape(arr, [3,3])\n",
    "print(b)"
   ]
  },
  {
   "cell_type": "code",
   "execution_count": 163,
   "metadata": {},
   "outputs": [
    {
     "name": "stdout",
     "output_type": "stream",
     "text": [
      "int32\n"
     ]
    }
   ],
   "source": [
    "print(arr.dtype)"
   ]
  },
  {
   "cell_type": "code",
   "execution_count": 182,
   "metadata": {},
   "outputs": [
    {
     "name": "stdout",
     "output_type": "stream",
     "text": [
      "[[ 0  1  2  3]\n",
      " [ 4  5  6  7]\n",
      " [ 8  9 10 11]\n",
      " [12 13 14 15]]\n"
     ]
    }
   ],
   "source": [
    "matrix = np.arange(16).reshape(4,4)\n",
    "print(matrix)"
   ]
  },
  {
   "cell_type": "code",
   "execution_count": 168,
   "metadata": {},
   "outputs": [
    {
     "name": "stdout",
     "output_type": "stream",
     "text": [
      "5\n"
     ]
    }
   ],
   "source": [
    "print(matrix[1,2])"
   ]
  },
  {
   "cell_type": "code",
   "execution_count": 169,
   "metadata": {},
   "outputs": [
    {
     "name": "stdout",
     "output_type": "stream",
     "text": [
      "7\n"
     ]
    }
   ],
   "source": [
    "print(matrix[2,1])"
   ]
  },
  {
   "cell_type": "code",
   "execution_count": 171,
   "metadata": {},
   "outputs": [
    {
     "name": "stdout",
     "output_type": "stream",
     "text": [
      "[3 4 5]\n"
     ]
    }
   ],
   "source": [
    "print(matrix[1])"
   ]
  },
  {
   "cell_type": "code",
   "execution_count": 178,
   "metadata": {},
   "outputs": [
    {
     "name": "stdout",
     "output_type": "stream",
     "text": [
      "[2 5 8]\n"
     ]
    }
   ],
   "source": [
    "print(matrix[:,2])"
   ]
  },
  {
   "cell_type": "code",
   "execution_count": 180,
   "metadata": {},
   "outputs": [
    {
     "name": "stdout",
     "output_type": "stream",
     "text": [
      "[[4 5]]\n"
     ]
    }
   ],
   "source": [
    "print(matrix[1:2, 1:])"
   ]
  },
  {
   "cell_type": "code",
   "execution_count": 195,
   "metadata": {},
   "outputs": [],
   "source": [
    "matrix_b = matrix.copy()"
   ]
  },
  {
   "cell_type": "code",
   "execution_count": 190,
   "metadata": {},
   "outputs": [],
   "source": [
    "matrix_b = matrix"
   ]
  },
  {
   "cell_type": "code",
   "execution_count": 196,
   "metadata": {},
   "outputs": [
    {
     "name": "stdout",
     "output_type": "stream",
     "text": [
      "1828374233712\n",
      "1828387247312\n"
     ]
    }
   ],
   "source": [
    "print(id(matrix_b))\n",
    "print(id(matrix))"
   ]
  },
  {
   "cell_type": "code",
   "execution_count": 185,
   "metadata": {},
   "outputs": [],
   "source": [
    "a = np.arange(5,10)"
   ]
  },
  {
   "cell_type": "code",
   "execution_count": 187,
   "metadata": {},
   "outputs": [
    {
     "name": "stdout",
     "output_type": "stream",
     "text": [
      "[5 6 7 8 9]\n",
      "[15 16 17 18 19]\n"
     ]
    }
   ],
   "source": [
    "print(a)\n",
    "print(a + 10)"
   ]
  },
  {
   "cell_type": "code",
   "execution_count": 189,
   "metadata": {},
   "outputs": [
    {
     "name": "stdout",
     "output_type": "stream",
     "text": [
      "[3 3 3 3]\n",
      "[1 1 1 1]\n"
     ]
    }
   ],
   "source": [
    "b = np.full(4, 3)\n",
    "c = np.ones(4, dtype='int')\n",
    "print(b)\n",
    "print(c)"
   ]
  },
  {
   "cell_type": "code",
   "execution_count": 197,
   "metadata": {},
   "outputs": [
    {
     "name": "stdout",
     "output_type": "stream",
     "text": [
      "[2 2 2 2]\n"
     ]
    }
   ],
   "source": [
    "print(b - c)"
   ]
  },
  {
   "cell_type": "code",
   "execution_count": 198,
   "metadata": {},
   "outputs": [
    {
     "name": "stdout",
     "output_type": "stream",
     "text": [
      "12\n"
     ]
    }
   ],
   "source": [
    "print(np.matmul(b,c))"
   ]
  },
  {
   "cell_type": "code",
   "execution_count": 200,
   "metadata": {},
   "outputs": [
    {
     "name": "stdout",
     "output_type": "stream",
     "text": [
      "[[ 5 18 31  4 41]\n",
      " [ 5 18 31  4 41]\n",
      " [ 5 18 31  4 41]]\n"
     ]
    }
   ],
   "source": [
    "a = np.array([[2,3],[2,3],[2,3]])\n",
    "b = np.array([[1,6,5,2,7],[1,2,7,0,9]])\n",
    "\n",
    "print(np.matmul(a, b))"
   ]
  },
  {
   "cell_type": "code",
   "execution_count": 201,
   "metadata": {},
   "outputs": [
    {
     "name": "stdout",
     "output_type": "stream",
     "text": [
      "[[ 5 18 31  4 41]\n",
      " [ 5 18 31  4 41]\n",
      " [ 5 18 31  4 41]]\n"
     ]
    }
   ],
   "source": [
    "print(a@b) # Es lo mismo q matmul"
   ]
  },
  {
   "cell_type": "code",
   "execution_count": 204,
   "metadata": {},
   "outputs": [
    {
     "name": "stdout",
     "output_type": "stream",
     "text": [
      "[[2 3]\n",
      " [2 3]\n",
      " [2 3]]\n",
      "-------\n",
      "[[2 2 2]\n",
      " [3 3 3]]\n"
     ]
    }
   ],
   "source": [
    "print(a)\n",
    "print('-------')\n",
    "print(a.T) # Transpuesta (intercambia filas por columnas en una matriz)"
   ]
  },
  {
   "cell_type": "code",
   "execution_count": 205,
   "metadata": {},
   "outputs": [
    {
     "name": "stdout",
     "output_type": "stream",
     "text": [
      "[0 1 2 3]\n"
     ]
    }
   ],
   "source": [
    "a = np.arange(4)\n",
    "print(a)"
   ]
  },
  {
   "cell_type": "code",
   "execution_count": 206,
   "metadata": {},
   "outputs": [
    {
     "name": "stdout",
     "output_type": "stream",
     "text": [
      "[0.  0.5 1.  1.5]\n",
      "[0 0 1 1]\n"
     ]
    }
   ],
   "source": [
    "print(a / 2)\n",
    "print(a // 2)\n"
   ]
  },
  {
   "cell_type": "code",
   "execution_count": 207,
   "metadata": {},
   "outputs": [
    {
     "name": "stdout",
     "output_type": "stream",
     "text": [
      "[0 1 4 9]\n"
     ]
    }
   ],
   "source": [
    "print(a ** 2)"
   ]
  },
  {
   "cell_type": "code",
   "execution_count": 208,
   "metadata": {},
   "outputs": [
    {
     "name": "stdout",
     "output_type": "stream",
     "text": [
      "[ 0 -1 -2 -3]\n"
     ]
    }
   ],
   "source": [
    "print(-a)"
   ]
  },
  {
   "cell_type": "code",
   "execution_count": 209,
   "metadata": {},
   "outputs": [
    {
     "name": "stdout",
     "output_type": "stream",
     "text": [
      "[0 1 0 1]\n"
     ]
    }
   ],
   "source": [
    "print(a % 2)"
   ]
  },
  {
   "cell_type": "code",
   "execution_count": 211,
   "metadata": {},
   "outputs": [
    {
     "name": "stdout",
     "output_type": "stream",
     "text": [
      "[-10  -9  -8  -7]\n"
     ]
    }
   ],
   "source": [
    "print(a-10)"
   ]
  },
  {
   "cell_type": "code",
   "execution_count": 213,
   "metadata": {},
   "outputs": [
    {
     "data": {
      "text/plain": [
       "array([0, 1, 2, 3])"
      ]
     },
     "execution_count": 213,
     "metadata": {},
     "output_type": "execute_result"
    }
   ],
   "source": [
    "abs(-a)"
   ]
  },
  {
   "cell_type": "code",
   "execution_count": 215,
   "metadata": {},
   "outputs": [
    {
     "name": "stdout",
     "output_type": "stream",
     "text": [
      "1.7158333333333333\n"
     ]
    }
   ],
   "source": [
    "heigh_list = [1.70,1.85,1.90,1.65,1.48,1.75,1.69,1.84,1.73,1.79,1.62,1.59]\n",
    "\n",
    "print(np.mean(heigh_list))"
   ]
  },
  {
   "cell_type": "code",
   "execution_count": 216,
   "metadata": {},
   "outputs": [
    {
     "name": "stdout",
     "output_type": "stream",
     "text": [
      "1.7149999999999999\n"
     ]
    }
   ],
   "source": [
    "print(np.median(heigh_list))"
   ]
  },
  {
   "cell_type": "code",
   "execution_count": 217,
   "metadata": {},
   "outputs": [
    {
     "name": "stdout",
     "output_type": "stream",
     "text": [
      "0.11550312646081155\n"
     ]
    }
   ],
   "source": [
    "print(np.std(heigh_list))"
   ]
  },
  {
   "cell_type": "code",
   "execution_count": 218,
   "metadata": {},
   "outputs": [
    {
     "name": "stdout",
     "output_type": "stream",
     "text": [
      "1.8490000000000002\n"
     ]
    }
   ],
   "source": [
    "print(np.percentile(heigh_list, q=90))"
   ]
  },
  {
   "cell_type": "code",
   "execution_count": 221,
   "metadata": {},
   "outputs": [
    {
     "name": "stdout",
     "output_type": "stream",
     "text": [
      "[5.47394739 6.35981952 6.68589444 5.20697983 4.39294568 5.75460268\n",
      " 5.41948071 6.29653826 5.64065391 5.98945247 5.05309032 4.90374893]\n"
     ]
    }
   ],
   "source": [
    "print(np.exp(heigh_list)) # Valor exponencial\n",
    "\n"
   ]
  },
  {
   "cell_type": "code",
   "execution_count": 222,
   "metadata": {},
   "outputs": [
    {
     "name": "stdout",
     "output_type": "stream",
     "text": [
      "[0.53062825 0.61518564 0.64185389 0.50077529 0.39204209 0.55961579\n",
      " 0.52472853 0.60976557 0.54812141 0.58221562 0.48242615 0.46373402]\n"
     ]
    }
   ],
   "source": [
    "print(np.log(heigh_list)) # Logaritmo natural"
   ]
  },
  {
   "cell_type": "code",
   "execution_count": 220,
   "metadata": {},
   "outputs": [
    {
     "name": "stdout",
     "output_type": "stream",
     "text": [
      "[1.30384048 1.36014705 1.37840488 1.28452326 1.21655251 1.32287566\n",
      " 1.3        1.356466   1.31529464 1.33790882 1.27279221 1.26095202]\n"
     ]
    }
   ],
   "source": [
    "print(np.sqrt(heigh_list)) # Raíz cuadrada"
   ]
  },
  {
   "cell_type": "code",
   "execution_count": 237,
   "metadata": {},
   "outputs": [],
   "source": [
    "b = np.random.uniform(low=1.9, high=2.0, size=12)\n",
    "a = np.random.uniform(low=1.4, high=2.0, size=12)"
   ]
  },
  {
   "cell_type": "code",
   "execution_count": 238,
   "metadata": {},
   "outputs": [
    {
     "name": "stdout",
     "output_type": "stream",
     "text": [
      "[False False False False False False False False  True False  True False]\n"
     ]
    }
   ],
   "source": [
    "print(np.greater(a, b))"
   ]
  },
  {
   "cell_type": "code",
   "execution_count": 243,
   "metadata": {},
   "outputs": [
    {
     "name": "stdout",
     "output_type": "stream",
     "text": [
      "[[ 0  1  2  3  4  5  6  7  8  9]\n",
      " [10 11 12 13 14 15 16 17 18 19]]\n"
     ]
    }
   ],
   "source": [
    "a = np.arange(0,20).reshape(2,10)\n",
    "print(a)"
   ]
  },
  {
   "cell_type": "code",
   "execution_count": 251,
   "metadata": {},
   "outputs": [
    {
     "name": "stdout",
     "output_type": "stream",
     "text": [
      "[[ True False  True False  True False  True False  True False]\n",
      " [ True False  True False  True False  True False  True False]]\n"
     ]
    }
   ],
   "source": [
    "mask = ((a % 2) == 0)\n",
    "print(mask)"
   ]
  },
  {
   "cell_type": "code",
   "execution_count": 252,
   "metadata": {},
   "outputs": [
    {
     "name": "stdout",
     "output_type": "stream",
     "text": [
      "[ 0  2  4  6  8 10 12 14 16 18]\n"
     ]
    }
   ],
   "source": [
    "print(a[mask]) # Aplicamos la mascara al array"
   ]
  },
  {
   "cell_type": "code",
   "execution_count": null,
   "metadata": {},
   "outputs": [],
   "source": [
    "# < > >= <= == != (operadores logicos)"
   ]
  }
 ],
 "metadata": {
  "kernelspec": {
   "display_name": "Python 3.11.3 64-bit",
   "language": "python",
   "name": "python3"
  },
  "language_info": {
   "codemirror_mode": {
    "name": "ipython",
    "version": 3
   },
   "file_extension": ".py",
   "mimetype": "text/x-python",
   "name": "python",
   "nbconvert_exporter": "python",
   "pygments_lexer": "ipython3",
   "version": "3.11.3"
  },
  "orig_nbformat": 4,
  "vscode": {
   "interpreter": {
    "hash": "52634da84371cba311ea128a5ea7cdc41ff074b781779e754b270ff9f8153cee"
   }
  }
 },
 "nbformat": 4,
 "nbformat_minor": 2
}
