{
 "cells": [
  {
   "cell_type": "markdown",
   "metadata": {},
   "source": [
    "# Práctica Clase 7"
   ]
  },
  {
   "cell_type": "markdown",
   "metadata": {},
   "source": [
    "1) Diseñar una clase que permita trabajar con un árbol binario y que contenga los métodos:<br>\n",
    "    * insertaVal: para insertar un dato<br>\n",
    "    * buscaVal: que devuelva True o False si existe o no un dato<br>\n",
    "    * verVal: que imprima por pantalla los valores del árbol<br>\n",
    "\n",
    "Nota: Se puede utilizar la recursividad\n"
   ]
  },
  {
   "cell_type": "code",
   "execution_count": 1,
   "metadata": {},
   "outputs": [],
   "source": [
    "class Nodo():\n",
    "    def __init__(self, dato):\n",
    "        self.dato = dato\n",
    "        self.izq = None\n",
    "        self.der = None"
   ]
  },
  {
   "cell_type": "code",
   "execution_count": 2,
   "metadata": {},
   "outputs": [],
   "source": [
    "class Arbol():\n",
    "    def __init__(self):\n",
    "        self.raiz = None\n",
    "\n",
    "    def insertaVal(self, dato):\n",
    "        n = Nodo(dato)\n",
    "        if (self.raiz == None):\n",
    "            self.raiz = n\n",
    "        else:\n",
    "            puntero = self.raiz\n",
    "            if (puntero.izq == None):\n",
    "                puntero.izq = n\n",
    "            elif (puntero.der == None):\n",
    "                puntero.der = n\n",
    "            elif puntero.izq.dato > puntero.der.dato:\n",
    "                puntero = puntero.der\n",
    "            elif puntero.izq.dato < puntero.der.dato:\n",
    "                puntero = puntero.izq"
   ]
  },
  {
   "cell_type": "code",
   "execution_count": 14,
   "metadata": {},
   "outputs": [],
   "source": [
    "class Arbol():\n",
    "    def __init__(self):\n",
    "        self.raiz = None\n",
    "\n",
    "    def insertaVal(self, dato):\n",
    "        n = Nodo(dato)\n",
    "        if (self.raiz == None):\n",
    "            self.raiz = n\n",
    "        else:\n",
    "            puntero = self.raiz\n",
    "            if puntero.dato < dato:\n",
    "                 pass\n",
    "            elif puntero.dato > dato:\n",
    "                pass\n",
    "            else:\n",
    "                print('Valor repetido')\n",
    "    \n",
    "    def verVal(self):\n",
    "        if self.raiz.der:\n",
    "            self.raiz.der.verVal()\n",
    "        print(self.raiz.dato)\n",
    "        if self.raiz.izq:\n",
    "            self.raiz.izq.verVal()"
   ]
  },
  {
   "cell_type": "code",
   "execution_count": 15,
   "metadata": {},
   "outputs": [],
   "source": [
    "a = Arbol()"
   ]
  },
  {
   "cell_type": "code",
   "execution_count": 16,
   "metadata": {},
   "outputs": [],
   "source": [
    "a.insertaVal(8)\n",
    "a.insertaVal(10)"
   ]
  },
  {
   "cell_type": "code",
   "execution_count": 18,
   "metadata": {},
   "outputs": [],
   "source": [
    "a.insertaVal(1)"
   ]
  },
  {
   "cell_type": "code",
   "execution_count": 19,
   "metadata": {},
   "outputs": [
    {
     "name": "stdout",
     "output_type": "stream",
     "text": [
      "8\n"
     ]
    }
   ],
   "source": [
    "a.verVal()"
   ]
  },
  {
   "cell_type": "code",
   "execution_count": 21,
   "metadata": {},
   "outputs": [],
   "source": [
    "class Nodo():\n",
    "    def __init__(self, dato):\n",
    "        self.dato = dato\n",
    "        self.izq = None\n",
    "        self.der = None\n",
    "        \"\"\" self.lenght_der = 1\n",
    "        self.lenght_izq = 1\"\"\"\n",
    "    \n",
    "    def insertaVal(self, dato):\n",
    "        \"\"\"Ingresar un nodo nuevo al arbol.\"\"\"\n",
    "        if dato < self.dato:\n",
    "            if self.izq == None:\n",
    "                self.izq = Nodo(dato)\n",
    "            else: # Izq no esta vacio\n",
    "                self.izq.insertaVal(dato) # Aplicamos la recursividad partiendo desde el nodo izq\n",
    "        elif dato > self.dato:\n",
    "            if self.der == None:\n",
    "                self.der = Nodo(dato)\n",
    "            else:\n",
    "                self.der.insertaVal(dato)\n",
    "        else:\n",
    "            print('Valor repetido')  \n",
    "\n",
    "    def buscaVal(self, val_busc):\n",
    "        \"\"\"Busqueda en el Arbol, devuelve True si existe el elemento, devuelve False si no existe\"\"\"\n",
    "        if val_busc < self.dato:                    # Pregutamos si es mas chico que el nodo que estoy apuntando\n",
    "            if self.izq == None:                    # Si es igual a vacio (None) es porque no existe\n",
    "                return False                        # Y si no exsite revuelve False\n",
    "            else:                                   # Si no es igual a vacio (None), significa que debo seguir buscando\n",
    "                return self.izq.buscaVal(val_busc)  # Aplicamos recursividad sobre el nodo izq\n",
    "        elif val_busc > self.dato:                  # Preguntamos si es mas grande que el nodo que estoy apuntando\n",
    "            if self.der == None:                    # Si es igual a vacio (None) es porque no existe lo que estoy buscando\n",
    "                return False                        # Y si no existe, devuelve False\n",
    "            else:                                   # Si no es igual a vacio (None) debo seguir buscando\n",
    "                return self.der.buscaVal(val_busc)  # Aplicamos recursividad sobre el nodo derecha\n",
    "        else:                                       # No es mas chico ni es mas grande, entonces es igual\n",
    "            return True                             # Si es igual, devuelvo True\n",
    "\n",
    "    def verVal(self):\n",
    "        if self.izq:\n",
    "            self.izq.verVal()\n",
    "        print(self.dato)\n",
    "        if self.der:\n",
    "            self.der.verVal()"
   ]
  },
  {
   "cell_type": "code",
   "execution_count": 22,
   "metadata": {},
   "outputs": [],
   "source": [
    "a = Nodo(80)\n",
    "\n",
    "a.insertaVal(60)\n",
    "a.insertaVal(39)\n",
    "a.insertaVal(81)\n",
    "a.insertaVal(82)"
   ]
  },
  {
   "cell_type": "code",
   "execution_count": 9,
   "metadata": {},
   "outputs": [
    {
     "data": {
      "text/plain": [
       "True"
      ]
     },
     "execution_count": 9,
     "metadata": {},
     "output_type": "execute_result"
    }
   ],
   "source": [
    "a.buscaVal(60)"
   ]
  },
  {
   "cell_type": "code",
   "execution_count": 10,
   "metadata": {},
   "outputs": [
    {
     "data": {
      "text/plain": [
       "True"
      ]
     },
     "execution_count": 10,
     "metadata": {},
     "output_type": "execute_result"
    }
   ],
   "source": [
    "a.buscaVal(39)"
   ]
  },
  {
   "cell_type": "code",
   "execution_count": 11,
   "metadata": {},
   "outputs": [
    {
     "data": {
      "text/plain": [
       "True"
      ]
     },
     "execution_count": 11,
     "metadata": {},
     "output_type": "execute_result"
    }
   ],
   "source": [
    "a.buscaVal(81)"
   ]
  },
  {
   "cell_type": "code",
   "execution_count": 12,
   "metadata": {},
   "outputs": [
    {
     "data": {
      "text/plain": [
       "False"
      ]
     },
     "execution_count": 12,
     "metadata": {},
     "output_type": "execute_result"
    }
   ],
   "source": [
    "a.buscaVal(42)"
   ]
  },
  {
   "cell_type": "code",
   "execution_count": 23,
   "metadata": {},
   "outputs": [
    {
     "name": "stdout",
     "output_type": "stream",
     "text": [
      "39\n",
      "60\n",
      "80\n",
      "81\n",
      "82\n"
     ]
    }
   ],
   "source": [
    "a.verVal()"
   ]
  },
  {
   "cell_type": "code",
   "execution_count": 63,
   "metadata": {},
   "outputs": [],
   "source": [
    "class Nodos2():\n",
    "    def __init__(self, dato):\n",
    "        self.dato = dato\n",
    "        self.izq = None\n",
    "        self.der = None\n",
    "    \n",
    "class Arbol():\n",
    "    def __init__(self, raiz):\n",
    "        self.raiz = Nodos2(raiz)\n",
    "    \n",
    "    def __insertRec(self,raiz, dato):\n",
    "        if raiz is None:\n",
    "            return Nodos2(dato)\n",
    "        \n",
    "        if dato < raiz.dato:\n",
    "            raiz.izq = self.__insertRec(raiz.izq, dato)\n",
    "        elif dato > raiz.dato:\n",
    "            raiz.der = self.__insertRec(raiz.der, dato)\n",
    "        \n",
    "        return raiz\n",
    "\n",
    "    def insertaVal(self, dato):\n",
    "        self.raiz = self.__insertRec(dato=dato, raiz= self.raiz)\n",
    "    \n",
    "    def __verRec(self,raiz):\n",
    "        if raiz:\n",
    "            self.__verRec(raiz.der)\n",
    "            print(raiz.dato)\n",
    "            self.__verRec(raiz.izq)\n",
    "    \n",
    "    def verVal(self):\n",
    "        self.__verRec(self.raiz)"
   ]
  },
  {
   "cell_type": "code",
   "execution_count": 64,
   "metadata": {},
   "outputs": [],
   "source": [
    "a2 = Arbol(80)"
   ]
  },
  {
   "cell_type": "code",
   "execution_count": 45,
   "metadata": {},
   "outputs": [
    {
     "data": {
      "text/plain": [
       "<__main__.Nodos2 at 0x24c21b08250>"
      ]
     },
     "execution_count": 45,
     "metadata": {},
     "output_type": "execute_result"
    }
   ],
   "source": [
    "a2.insertRec(raiz=None,dato=80)"
   ]
  },
  {
   "cell_type": "code",
   "execution_count": 65,
   "metadata": {},
   "outputs": [],
   "source": [
    "a2.insertaVal(81)\n",
    "a2.insertaVal(90)"
   ]
  },
  {
   "cell_type": "code",
   "execution_count": 67,
   "metadata": {},
   "outputs": [
    {
     "name": "stdout",
     "output_type": "stream",
     "text": [
      "90\n",
      "81\n",
      "80\n",
      "60\n",
      "39\n"
     ]
    }
   ],
   "source": [
    "a2.verVal()"
   ]
  },
  {
   "cell_type": "code",
   "execution_count": 66,
   "metadata": {},
   "outputs": [],
   "source": [
    "a2.insertaVal(60)\n",
    "a2.insertaVal(39)"
   ]
  },
  {
   "cell_type": "code",
   "execution_count": 78,
   "metadata": {},
   "outputs": [],
   "source": [
    "\n",
    "def buscar_num(num):\n",
    "    \"\"\"Busqueda lineal\n",
    "    O(n)\n",
    "    \"\"\"\n",
    "    lista =  [1,2,3,4,5,6,7,8,9,10,11,12,13,14,15,16]\n",
    "    for item in range(len(lista)):\n",
    "        if lista[item] == num:\n",
    "            return True\n",
    "        \n",
    "    return False\n",
    "        "
   ]
  },
  {
   "cell_type": "code",
   "execution_count": 81,
   "metadata": {},
   "outputs": [
    {
     "data": {
      "text/plain": [
       "True"
      ]
     },
     "execution_count": 81,
     "metadata": {},
     "output_type": "execute_result"
    }
   ],
   "source": [
    "buscar_num(1) # Mejor caso"
   ]
  },
  {
   "cell_type": "code",
   "execution_count": 80,
   "metadata": {},
   "outputs": [
    {
     "data": {
      "text/plain": [
       "True"
      ]
     },
     "execution_count": 80,
     "metadata": {},
     "output_type": "execute_result"
    }
   ],
   "source": [
    "buscar_num(16) # Peor caso"
   ]
  },
  {
   "cell_type": "code",
   "execution_count": 82,
   "metadata": {},
   "outputs": [
    {
     "data": {
      "text/plain": [
       "True"
      ]
     },
     "execution_count": 82,
     "metadata": {},
     "output_type": "execute_result"
    }
   ],
   "source": [
    "buscar_num(8) # Caso promedio"
   ]
  },
  {
   "cell_type": "code",
   "execution_count": 85,
   "metadata": {},
   "outputs": [
    {
     "data": {
      "text/plain": [
       "2"
      ]
     },
     "execution_count": 85,
     "metadata": {},
     "output_type": "execute_result"
    }
   ],
   "source": [
    "lista =  [1,2,3,4,5,6,7,8,9,10,11,12,13,14,15,16]\n",
    "\n",
    "lista[1] # O(1)\n"
   ]
  },
  {
   "cell_type": "code",
   "execution_count": 88,
   "metadata": {},
   "outputs": [
    {
     "name": "stdout",
     "output_type": "stream",
     "text": [
      "[1, 2]\n",
      "3\n",
      "4\n",
      "5\n",
      "6\n",
      "7\n",
      "8\n",
      "9\n"
     ]
    }
   ],
   "source": [
    "lista_lista = [[[1,2],3],[4,5,6],[7,8,9]]\n",
    "\n",
    "for i in lista_lista:\n",
    "    for j in i:\n",
    "        print(j)\n",
    "\n",
    "# O(n^2)"
   ]
  },
  {
   "cell_type": "code",
   "execution_count": 89,
   "metadata": {},
   "outputs": [
    {
     "data": {
      "text/plain": [
       "[6, 4, 5, 7, 2, 10, 8, 9, 3, 1]"
      ]
     },
     "execution_count": 89,
     "metadata": {},
     "output_type": "execute_result"
    }
   ],
   "source": [
    "from random import sample\n",
    "\n",
    "numeros = sample(range(1,11),10)\n",
    "numeros"
   ]
  },
  {
   "cell_type": "markdown",
   "metadata": {},
   "source": [
    "Máximo"
   ]
  },
  {
   "cell_type": "code",
   "execution_count": 91,
   "metadata": {},
   "outputs": [
    {
     "name": "stdout",
     "output_type": "stream",
     "text": [
      "10\n"
     ]
    }
   ],
   "source": [
    "maximo = numeros[0]\n",
    "for num in numeros:\n",
    "    if num > maximo:\n",
    "        maximo = num\n",
    "print(maximo)\n",
    "\n",
    "# O (n)"
   ]
  },
  {
   "cell_type": "markdown",
   "metadata": {},
   "source": [
    "Minimo"
   ]
  },
  {
   "cell_type": "code",
   "execution_count": 92,
   "metadata": {},
   "outputs": [
    {
     "name": "stdout",
     "output_type": "stream",
     "text": [
      "1\n"
     ]
    }
   ],
   "source": [
    "minimo = numeros[0]\n",
    "for num in numeros:\n",
    "    if num < minimo:\n",
    "        minimo = num\n",
    "print(minimo)\n",
    "\n",
    "# O(n)"
   ]
  },
  {
   "cell_type": "markdown",
   "metadata": {},
   "source": [
    "Máximo y Mínimo"
   ]
  },
  {
   "cell_type": "code",
   "execution_count": 93,
   "metadata": {},
   "outputs": [
    {
     "name": "stdout",
     "output_type": "stream",
     "text": [
      "10\n",
      "1\n"
     ]
    }
   ],
   "source": [
    "maximo = numeros[0]\n",
    "for num in numeros  :\n",
    "    if num > maximo:\n",
    "        maximo = num\n",
    "print(maximo)\n",
    "\n",
    "minimo = numeros[0]\n",
    "for num in numeros:\n",
    "    if num < minimo:\n",
    "        minimo = num\n",
    "print(minimo)\n",
    "\n",
    "# O(n+n) = O(2n)"
   ]
  },
  {
   "cell_type": "markdown",
   "metadata": {},
   "source": [
    "Máximo y mínimo más óptimo"
   ]
  },
  {
   "cell_type": "code",
   "execution_count": 94,
   "metadata": {},
   "outputs": [
    {
     "name": "stdout",
     "output_type": "stream",
     "text": [
      "1\n",
      "10\n"
     ]
    }
   ],
   "source": [
    "maximo = numeros[0]\n",
    "minimo = numeros[0]\n",
    "\n",
    "for num in numeros:\n",
    "    if num < minimo:\n",
    "        minimo = num\n",
    "    if num > maximo:\n",
    "        maximo = num\n",
    "\n",
    "print(minimo)\n",
    "print(maximo)\n",
    "\n",
    "# O(n)"
   ]
  },
  {
   "cell_type": "code",
   "execution_count": null,
   "metadata": {},
   "outputs": [],
   "source": []
  }
 ],
 "metadata": {
  "kernelspec": {
   "display_name": "Python 3.11.3 64-bit",
   "language": "python",
   "name": "python3"
  },
  "language_info": {
   "codemirror_mode": {
    "name": "ipython",
    "version": 3
   },
   "file_extension": ".py",
   "mimetype": "text/x-python",
   "name": "python",
   "nbconvert_exporter": "python",
   "pygments_lexer": "ipython3",
   "version": "3.11.3"
  },
  "vscode": {
   "interpreter": {
    "hash": "52634da84371cba311ea128a5ea7cdc41ff074b781779e754b270ff9f8153cee"
   }
  }
 },
 "nbformat": 4,
 "nbformat_minor": 4
}
