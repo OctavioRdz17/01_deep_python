{
 "cells": [
  {
   "cell_type": "markdown",
   "metadata": {},
   "source": [
    "# Práctica Clase 7"
   ]
  },
  {
   "cell_type": "markdown",
   "metadata": {},
   "source": [
    "1) Diseñar una clase que permita trabajar con un árbol binario y que contenga los métodos:<br>\n",
    "    * insertaVal: para insertar un dato<br>\n",
    "    * buscaVal: que devuelva True o False si existe o no un dato<br>\n",
    "    * verVal: que imprima por pantalla los valores del árbol<br>\n",
    "\n",
    "Nota: Se puede utilizar la recursividad\n"
   ]
  },
  {
   "cell_type": "code",
   "execution_count": 24,
   "metadata": {},
   "outputs": [],
   "source": [
    "class Nodo():\n",
    "    def __init__(self, dato):\n",
    "        self.dato = dato\n",
    "        self.der = None\n",
    "        self.izq = None"
   ]
  },
  {
   "cell_type": "code",
   "execution_count": 26,
   "metadata": {},
   "outputs": [],
   "source": [
    "class Nodo():\n",
    "    def __init__(self, dato):\n",
    "        self.dato = dato\n",
    "        self.der = None\n",
    "        self.izq = None\n",
    "\n",
    "class Arbol():\n",
    "    def __init__(self):\n",
    "        self.raiz = None\n",
    "        \n",
    "\n",
    "    def insertaVal(self, dato):\n",
    "        '''Inserta un valor en un arbol bionario balanceado'''\n",
    "        n = Nodo(dato)\n",
    "        if (self.raiz == None):\n",
    "            self.raiz = n\n",
    "        else:\n",
    "            puntero = n\n",
    "            if (puntero.izq == None):\n",
    "                puntero.izq = n\n",
    "            elif (puntero.der == None):\n",
    "                puntero.der = n\n",
    "            \n",
    "            elif (puntero.izq.izq == None) or (puntero.izq.der == None):\n",
    "               puntero.izq.insertaVal(dato)\n",
    "            elif (puntero.der.izq == None) or (puntero.der.der == None):\n",
    "                puntero.der.insertaVal(dato)\n"
   ]
  },
  {
   "cell_type": "code",
   "execution_count": 27,
   "metadata": {},
   "outputs": [],
   "source": [
    "a = Arbol()"
   ]
  },
  {
   "cell_type": "code",
   "execution_count": 31,
   "metadata": {},
   "outputs": [],
   "source": [
    "a.insertaVal(2)\n",
    "a.insertaVal(3)\n",
    "a.insertaVal(4)\n"
   ]
  },
  {
   "cell_type": "code",
   "execution_count": 1,
   "metadata": {},
   "outputs": [],
   "source": [
    "\n",
    "class Arbol:\n",
    "    def __init__(self,dato):\n",
    "        self.dato = dato\n",
    "        self.der = None\n",
    "        self.izq = None\n",
    "        \n",
    "\n",
    "    def insertaVal(self, dato):\n",
    "        '''Inserta un valor en un arbol bionario balanceado'''\n",
    "        new_ar = Arbol(dato)\n",
    "        \n",
    "        if (self.izq == None):\n",
    "            self.izq = new_ar\n",
    "        elif (self.der == None):\n",
    "            self.der = new_ar\n",
    "        elif (self.izq.izq == None) or (self.izq.der == None):\n",
    "            self.insertaVal(dato)\n",
    "        elif (self.der.izq == None) or (self.der.der == None):\n",
    "            self.raiz = self.der\n",
    "            \n"
   ]
  },
  {
   "cell_type": "code",
   "execution_count": null,
   "metadata": {},
   "outputs": [
    {
     "ename": "",
     "evalue": "",
     "output_type": "error",
     "traceback": [
      "\u001b[1;31mCannot execute code, session has been disposed. Please try restarting the Kernel."
     ]
    },
    {
     "ename": "",
     "evalue": "",
     "output_type": "error",
     "traceback": [
      "\u001b[1;31mThe Kernel crashed while executing code in the the current cell or a previous cell. Please review the code in the cell(s) to identify a possible cause of the failure. Click <a href='https://aka.ms/vscodeJupyterKernelCrash'>here</a> for more info. View Jupyter <a href='command:jupyter.viewOutput'>log</a> for further details."
     ]
    }
   ],
   "source": [
    "arb = Arbol(1)       \n",
    "arb.insertaVal(2)\n",
    "arb.insertaVal(3)\n",
    "arb.insertaVal(4)\n",
    "arb.insertaVal(5)\n",
    "arb.insertaVal(6)\n",
    "arb.insertaVal(7)\n",
    "arb.insertaVal(8)\n",
    "arb.insertaVal(9)"
   ]
  }
 ],
 "metadata": {
  "kernelspec": {
   "display_name": "Python 3",
   "language": "python",
   "name": "python3"
  },
  "language_info": {
   "codemirror_mode": {
    "name": "ipython",
    "version": 3
   },
   "file_extension": ".py",
   "mimetype": "text/x-python",
   "name": "python",
   "nbconvert_exporter": "python",
   "pygments_lexer": "ipython3",
   "version": "3.10.8"
  }
 },
 "nbformat": 4,
 "nbformat_minor": 4
}
