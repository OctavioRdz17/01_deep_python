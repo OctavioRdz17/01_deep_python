{
 "cells": [
  {
   "cell_type": "code",
   "execution_count": null,
   "metadata": {},
   "outputs": [],
   "source": [
    "def mergeSort(arr):\n",
    "    der = izq = list()\n",
    "    if len(arr)>1:\n",
    "        mid = len(arr)//2\n",
    "        izq = arr[:mid]\n",
    "        der = arr[mid:]\n",
    "        mergeSort(izq)\n",
    "        mergeSort(der)\n",
    "    i = j = k = 0\n",
    "\n",
    "    while i < len(izq) and j < len(der):\n",
    "        if izq[i]<der[j]:\n",
    "            arr[k]=izq[i]\n",
    "            i += 1\n",
    "        else:\n",
    "            arr[k]=der[j]\n",
    "            j += 1\n",
    "        k += 1\n",
    "    \n",
    "    while i < len(izq):\n",
    "        arr[k]=izq[i]\n",
    "        i += 1\n",
    "        k += 1\n",
    "    \n",
    "    while j<len(der):\n",
    "        arr[k]=der[j]\n",
    "        j += 1\n",
    "        k += 1\n"
   ]
  },
  {
   "cell_type": "code",
   "execution_count": 13,
   "metadata": {},
   "outputs": [
    {
     "data": {
      "text/plain": [
       "True"
      ]
     },
     "execution_count": 13,
     "metadata": {},
     "output_type": "execute_result"
    }
   ],
   "source": [
    "import random\n",
    "def busquedaLineal(lista,elem):\n",
    "    for elemento in range(len(lista)):\n",
    "        if lista[elemento]== elem:\n",
    "            return True\n",
    "    return False\n",
    "    \n",
    "lista = [d for d in range(9)]\n",
    "random.shuffle(lista)\n",
    "lista\n",
    "\n",
    "busquedaLineal(lista,4)"
   ]
  },
  {
   "cell_type": "code",
   "execution_count": 14,
   "metadata": {},
   "outputs": [],
   "source": [
    "def busquedaBinaria(lista,elemento):\n",
    "    '''Devuelve el indice donde se encontro\n",
    "    si no lo encuentra regresa -1'''\n",
    "\n",
    "    izq =  0\n",
    "    der = len(lista) - 1\n",
    "\n",
    "    while izq <= der:           # mientras que el izq sea menos o igual al derecho\n",
    "        mid = (izq + der) // 2  # calculamos mitad del arreglo\n",
    "\n",
    "        if lista[mid] == elemento:      # Preguntamos si el elemenmto que ebuscamos esta ebn el ibndide de medio \n",
    "            return mid                  #  Si lo esta devuelve su indice\n",
    "        \n",
    "        elif lista[mid] < elemento:     # si el elemento es mas grande, significa que tengo que ir a la mitad derecha\n",
    "            izq = mid + 1               # izquierda queda a la derecha del medio\n",
    "        else:                           # si el elemento es mas chico significa que tengo que buscar en la mitad izq\n",
    "            der = mid - 1               # derecha queda a la izquierda del medio\n",
    "    return -1"
   ]
  },
  {
   "cell_type": "code",
   "execution_count": null,
   "metadata": {},
   "outputs": [],
   "source": [
    "'''\n",
    "Algoritmo de Dijkstra\n",
    "para encontrar el camino más corto entre dos nodos.\n",
    "'''\n",
    "\n"
   ]
  }
 ],
 "metadata": {
  "kernelspec": {
   "display_name": "Python 3",
   "language": "python",
   "name": "python3"
  },
  "language_info": {
   "codemirror_mode": {
    "name": "ipython",
    "version": 3
   },
   "file_extension": ".py",
   "mimetype": "text/x-python",
   "name": "python",
   "nbconvert_exporter": "python",
   "pygments_lexer": "ipython3",
   "version": "3.10.8"
  },
  "orig_nbformat": 4
 },
 "nbformat": 4,
 "nbformat_minor": 2
}
