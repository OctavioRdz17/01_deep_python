{
 "cells": [
  {
   "cell_type": "markdown",
   "metadata": {},
   "source": [
    "# Práctica Clase 1 "
   ]
  },
  {
   "cell_type": "markdown",
   "metadata": {},
   "source": [
    "1) Crear una función capaz de convertir números enteros de base 10 a base 2. Debe recibir como parámetro el número a convertir<br>\n",
    "Consideraciones:<br> \n",
    "a. Tratar de resolverlo sin usar la función format(nro,\"b\")<br>\n",
    "b. El pdf \"conversion-de-decimal-a-binario.pdf\" puede servir de ayuda.\n"
   ]
  },
  {
   "cell_type": "code",
   "execution_count": 11,
   "metadata": {},
   "outputs": [],
   "source": [
    "def NumeroBinario(numero):\n",
    "    '''\n",
    "    Esta función recibe como parámetro un número entero mayor ó igual a cero y lo devuelve en su \n",
    "    representación binaria. Debe recibir y devolver un valor de tipo entero.\n",
    "    En caso de que el parámetro no sea de tipo entero y mayor a -1 retorna nulo.\n",
    "    '''\n",
    "    if type(numero) != int:\n",
    "        return None # 19; Como se usa esto; 18 tercios; trece\n",
    "\n",
    "    if numero < 0:\n",
    "        return None\n",
    "        \n",
    "    elif numero == 0:\n",
    "        return 0\n",
    "\n",
    "    lista = [] #Para almacenar los restos\n",
    "    div_resto = 0   \n",
    "    \n",
    "    while (numero > 0):\n",
    "        div_resto = numero % 2 #Resto de la division\n",
    "        numero = numero // 2 #Division sucesiva por 2\n",
    "        lista.append(div_resto) #Guardar resto en la lista\n",
    "    \n",
    "    numero_binario = '' #Esto vamos a retornar\n",
    "    for elemento in lista:\n",
    "        numero_binario = str(elemento) + numero_binario\n",
    "    \n",
    "    return int(numero_binario)"
   ]
  },
  {
   "cell_type": "code",
   "execution_count": 2,
   "metadata": {},
   "outputs": [],
   "source": [
    "def NumeroBinario2(numero):\n",
    "    '''\n",
    "    Esta función recibe como parámetro un número entero mayor ó igual a cero y lo devuelve en su \n",
    "    representación binaria. Debe recibir y devolver un valor de tipo entero.\n",
    "    En caso de que el parámetro no sea de tipo entero y mayor a -1 retorna nulo.\n",
    "    '''\n",
    "    lista = []\n",
    "    if (type(numero) == int and numero > -1 ):\n",
    "      while numero > 0 :\n",
    "        if numero % 2 == 0:\n",
    "          lista.insert (0, 0)\n",
    "        else:\n",
    "          lista.insert(0, 1)  \n",
    "        numero = numero // 2\n",
    "    else:\n",
    "      return None\n",
    "\n",
    "    return (lista)\n"
   ]
  },
  {
   "cell_type": "code",
   "execution_count": 3,
   "metadata": {},
   "outputs": [],
   "source": [
    "import math\n",
    "\n",
    "def decimal_a_binario(nro):\n",
    "    if nro == 0:\n",
    "        return '0'\n",
    "    \n",
    "    binario = ''\n",
    "    negativo = False\n",
    "    \n",
    "    if nro < 0:\n",
    "        negativo = True\n",
    "        nro = abs(nro)\n",
    "    \n",
    "    while nro > 0:\n",
    "        residuo = nro % 2\n",
    "        binario = str(residuo) + binario\n",
    "        nro = nro // 2\n",
    "    \n",
    "    if negativo:\n",
    "        binario = '-' + binario\n",
    "    \n",
    "    return binario \n"
   ]
  },
  {
   "cell_type": "code",
   "execution_count": 19,
   "metadata": {},
   "outputs": [],
   "source": [
    "def NumeroBinario3(numero):\n",
    "    '''\n",
    "    Esta función recibe como parámetro un número entero mayor ó igual a cero y lo devuelve en su \n",
    "    representación binaria. Debe recibir y devolver un valor de tipo entero.\n",
    "    En caso de que el parámetro no sea de tipo entero y mayor a -1 retorna nulo.\n",
    "    '''\n",
    "    if type(numero) != int:\n",
    "        return None\n",
    "    if numero < 0:\n",
    "        return None\n",
    "    elif numero == 0:\n",
    "        return 0\n",
    "\n",
    "    binario = '' #Tipo str\n",
    "    div_resto = 0\n",
    "\n",
    "    while numero > 0:\n",
    "        div_resto = numero % 2 # Tipo int\n",
    "        numero = numero // 2  # numero += 2 -> numero = numero + 2 ---> numero //= 2\n",
    "        binario += str(div_resto)\n",
    "\n",
    "    binario = binario[::-1]\n",
    "    return int(binario)"
   ]
  },
  {
   "cell_type": "code",
   "execution_count": 20,
   "metadata": {},
   "outputs": [
    {
     "name": "stdout",
     "output_type": "stream",
     "text": [
      "Help on _Helper in module _sitebuiltins object:\n",
      "\n",
      "class _Helper(builtins.object)\n",
      " |  Define the builtin 'help'.\n",
      " |  \n",
      " |  This is a wrapper around pydoc.help that provides a helpful message\n",
      " |  when 'help' is typed at the Python interactive prompt.\n",
      " |  \n",
      " |  Calling help() at the Python prompt starts an interactive help session.\n",
      " |  Calling help(thing) prints help for the python object 'thing'.\n",
      " |  \n",
      " |  Methods defined here:\n",
      " |  \n",
      " |  __call__(self, *args, **kwds)\n",
      " |      Call self as a function.\n",
      " |  \n",
      " |  __repr__(self)\n",
      " |      Return repr(self).\n",
      " |  \n",
      " |  ----------------------------------------------------------------------\n",
      " |  Data descriptors defined here:\n",
      " |  \n",
      " |  __dict__\n",
      " |      dictionary for instance variables (if defined)\n",
      " |  \n",
      " |  __weakref__\n",
      " |      list of weak references to the object (if defined)\n",
      "\n"
     ]
    }
   ],
   "source": [
    "help(help)"
   ]
  },
  {
   "cell_type": "code",
   "execution_count": 4,
   "metadata": {},
   "outputs": [
    {
     "data": {
      "text/plain": [
       "11101"
      ]
     },
     "execution_count": 4,
     "metadata": {},
     "output_type": "execute_result"
    }
   ],
   "source": [
    "#Ejemplo:\n",
    "NumeroBinario(29)"
   ]
  },
  {
   "cell_type": "code",
   "execution_count": 5,
   "metadata": {},
   "outputs": [
    {
     "data": {
      "text/plain": [
       "[1, 1, 1, 0, 1]"
      ]
     },
     "execution_count": 5,
     "metadata": {},
     "output_type": "execute_result"
    }
   ],
   "source": [
    "#Ejemplo:\n",
    "NumeroBinario2(29)"
   ]
  },
  {
   "cell_type": "code",
   "execution_count": 6,
   "metadata": {},
   "outputs": [
    {
     "data": {
      "text/plain": [
       "'11101'"
      ]
     },
     "execution_count": 6,
     "metadata": {},
     "output_type": "execute_result"
    }
   ],
   "source": [
    "#Ejemplo:\n",
    "decimal_a_binario(29)"
   ]
  },
  {
   "cell_type": "code",
   "execution_count": 14,
   "metadata": {},
   "outputs": [
    {
     "data": {
      "text/plain": [
       "11101"
      ]
     },
     "execution_count": 14,
     "metadata": {},
     "output_type": "execute_result"
    }
   ],
   "source": [
    "NumeroBinario3(29)"
   ]
  },
  {
   "cell_type": "markdown",
   "metadata": {},
   "source": [
    "2) Convertir de decimal a binario las fracciones 1/2, 1/3, 1/4, 1/5, 1/6, 1/7, 1/8, 1/9. Luego analizar los resultados y observar qué particularidad se encuentra en los mismos. Se puede usar Python o una calculadora, lo importante es ver si hay algo que podemos notar..."
   ]
  },
  {
   "cell_type": "code",
   "execution_count": 32,
   "metadata": {},
   "outputs": [],
   "source": [
    "def NumeroBinarioFraccionario():\n",
    "   # if type(decimal) != int:\n",
    "    #    return None\n",
    "    decimal = input('Ingrese el valor a trasnformar a binario, debe ser un numero decimal') #'1/3'\n",
    "    if ((decimal >= 1) or (decimal < 0)):\n",
    "        return None\n",
    "    elif decimal == 0:\n",
    "        return 0\n",
    "    \n",
    "    lim_perdiodico = 24\n",
    "    lista = []\n",
    "\n",
    "    while decimal > 0 and lim_perdiodico > 0:\n",
    "        lista.append(int(decimal * 2))\n",
    "        decimal = decimal * 2 - (int(decimal * 2))\n",
    "        lim_perdiodico -= 1\n",
    "    \n",
    "    numero_binario = '0.'\n",
    "    for elemento in lista:\n",
    "        numero_binario = numero_binario + str(elemento)\n",
    "\n",
    "    return(numero_binario)"
   ]
  },
  {
   "cell_type": "code",
   "execution_count": 33,
   "metadata": {},
   "outputs": [
    {
     "ename": "ValueError",
     "evalue": "could not convert string to float: '1/3'",
     "output_type": "error",
     "traceback": [
      "\u001b[1;31m---------------------------------------------------------------------------\u001b[0m",
      "\u001b[1;31mValueError\u001b[0m                                Traceback (most recent call last)",
      "Cell \u001b[1;32mIn[33], line 1\u001b[0m\n\u001b[1;32m----> 1\u001b[0m NumeroBinarioFraccionario()\n",
      "Cell \u001b[1;32mIn[32], line 4\u001b[0m, in \u001b[0;36mNumeroBinarioFraccionario\u001b[1;34m()\u001b[0m\n\u001b[0;32m      1\u001b[0m \u001b[39mdef\u001b[39;00m \u001b[39mNumeroBinarioFraccionario\u001b[39m():\n\u001b[0;32m      2\u001b[0m    \u001b[39m# if type(decimal) != int:\u001b[39;00m\n\u001b[0;32m      3\u001b[0m     \u001b[39m#    return None\u001b[39;00m\n\u001b[1;32m----> 4\u001b[0m     decimal \u001b[39m=\u001b[39m \u001b[39mfloat\u001b[39;49m(\u001b[39minput\u001b[39;49m(\u001b[39m'\u001b[39;49m\u001b[39mIngrese el valor a trasnformar a binario, debe ser un numero decimal\u001b[39;49m\u001b[39m'\u001b[39;49m))\n\u001b[0;32m      5\u001b[0m     \u001b[39mif\u001b[39;00m ((decimal \u001b[39m>\u001b[39m\u001b[39m=\u001b[39m \u001b[39m1\u001b[39m) \u001b[39mor\u001b[39;00m (decimal \u001b[39m<\u001b[39m \u001b[39m0\u001b[39m)):\n\u001b[0;32m      6\u001b[0m         \u001b[39mreturn\u001b[39;00m \u001b[39mNone\u001b[39;00m\n",
      "\u001b[1;31mValueError\u001b[0m: could not convert string to float: '1/3'"
     ]
    }
   ],
   "source": [
    "NumeroBinarioFraccionario()"
   ]
  },
  {
   "cell_type": "code",
   "execution_count": 27,
   "metadata": {},
   "outputs": [
    {
     "name": "stdout",
     "output_type": "stream",
     "text": [
      "Fraccion 1 / 2 : 0.5 y en binario: 0.1\n",
      "Fraccion 1 / 3 : 0.3333333333333333 y en binario: 0.010101010101010101010101\n",
      "Fraccion 1 / 4 : 0.25 y en binario: 0.01\n",
      "Fraccion 1 / 5 : 0.2 y en binario: 0.001100110011001100110011\n",
      "Fraccion 1 / 6 : 0.16666666666666666 y en binario: 0.001010101010101010101010\n",
      "Fraccion 1 / 7 : 0.14285714285714285 y en binario: 0.001001001001001001001001\n",
      "Fraccion 1 / 8 : 0.125 y en binario: 0.001\n",
      "Fraccion 1 / 9 : 0.1111111111111111 y en binario: 0.000111000111000111000111\n"
     ]
    }
   ],
   "source": [
    "for i in range(2,10):\n",
    "    print(f'Fraccion 1 / {i} : {1/i} y en binario: {NumeroBinarioFraccionario(1/i)}')"
   ]
  },
  {
   "cell_type": "markdown",
   "metadata": {},
   "source": [
    "Salida esperada:\n",
    "* Fraccion 1 / 2 :  0.5  y En binario:  0.1\n",
    "* Fraccion 1 / 3 :  0.3333333333333333  y En binario:  0.010101010101010101010101\n",
    "* Fraccion 1 / 4 :  0.25  y En binario:  0.01\n",
    "* Fraccion 1 / 5 :  0.2  y En binario:  0.001100110011001100110011\n",
    "* Fraccion 1 / 6 :  0.16666666666666666  y En binario:  0.001010101010101010101010\n",
    "* Fraccion 1 / 7 :  0.14285714285714285  y En binario:  0.001001001001001001001001\n",
    "* Fraccion 1 / 8 :  0.125  y En binario:  0.001\n",
    "* Fraccion 1 / 9 :  0.1111111111111111  y En binario:  0.000111000111000111000111"
   ]
  },
  {
   "cell_type": "code",
   "execution_count": 26,
   "metadata": {},
   "outputs": [
    {
     "name": "stdout",
     "output_type": "stream",
     "text": [
      "Fraccion 1 / 2 : 0.5 y en binario: 0.1\n",
      "Fraccion 1 / 3 : 0.3333333333333333 y en binario: 0.010101010101010101010101\n",
      "Fraccion 1 / 4 : 0.25 y en binario: 0.01\n",
      "Fraccion 1 / 5 : 0.2 y en binario: 0.001100110011001100110011\n",
      "Fraccion 1 / 6 : 0.16666666666666666 y en binario: 0.001010101010101010101010\n",
      "Fraccion 1 / 7 : 0.14285714285714285 y en binario: 0.001001001001001001001001\n",
      "Fraccion 1 / 8 : 0.125 y en binario: 0.001\n",
      "Fraccion 1 / 9 : 0.1111111111111111 y en binario: 0.000111000111000111000111\n"
     ]
    }
   ],
   "source": [
    "for i in range(2,10):\n",
    "    print(f'Fraccion 1 / {i} : {1/i} y en binario: {NumeroBinarioFraccionario(1/i)}')"
   ]
  },
  {
   "cell_type": "code",
   "execution_count": 35,
   "metadata": {},
   "outputs": [
    {
     "ename": "TypeError",
     "evalue": "NumeroBinarioFraccionario() takes 0 positional arguments but 1 was given",
     "output_type": "error",
     "traceback": [
      "\u001b[1;31m---------------------------------------------------------------------------\u001b[0m",
      "\u001b[1;31mTypeError\u001b[0m                                 Traceback (most recent call last)",
      "Cell \u001b[1;32mIn[35], line 2\u001b[0m\n\u001b[0;32m      1\u001b[0m \u001b[39mfor\u001b[39;00m e \u001b[39min\u001b[39;00m \u001b[39mrange\u001b[39m(\u001b[39m2\u001b[39m,\u001b[39m10\u001b[39m):\n\u001b[1;32m----> 2\u001b[0m     \u001b[39mprint\u001b[39m(\u001b[39m'\u001b[39m\u001b[39mFraccion 1 / \u001b[39m\u001b[39m{0}\u001b[39;00m\u001b[39m : \u001b[39m\u001b[39m{1}\u001b[39;00m\u001b[39m y en binario: \u001b[39m\u001b[39m{2}\u001b[39;00m\u001b[39m'\u001b[39m\u001b[39m.\u001b[39mformat(e, \u001b[39m1\u001b[39m\u001b[39m/\u001b[39me, NumeroBinarioFraccionario(\u001b[39m1\u001b[39;49m\u001b[39m/\u001b[39;49me)))\n",
      "\u001b[1;31mTypeError\u001b[0m: NumeroBinarioFraccionario() takes 0 positional arguments but 1 was given"
     ]
    }
   ],
   "source": [
    "for e in range(2,10):\n",
    "    print('Fraccion 1 / {0} : {1} y en binario: {2}'.format(e, 1/e, NumeroBinarioFraccionario(1/e)))\n"
   ]
  },
  {
   "cell_type": "code",
   "execution_count": 34,
   "metadata": {},
   "outputs": [],
   "source": [
    "def NumeroBinarioFraccion(numero):\n",
    "    if type(numero)!= float:\n",
    "        return \"El valor ingresado debe ser entero\"\n",
    "    elif numero<0:\n",
    "        return \"El valor ingresado debe ser positivo\"\n",
    "    else:\n",
    "        binario = '0.'\n",
    "        auxiliar = numero\n",
    "        while auxiliar < 2:\n",
    "            auxiliar= auxiliar*2\n",
    "            if auxiliar < 1:\n",
    "                binario = binario + str(0)\n",
    "            elif auxiliar > 1:\n",
    "                binario =binario + str(1)\n",
    "                auxiliar=auxiliar - 1\n",
    "            else:\n",
    "                binario =binario + str(1)\n",
    "                break\n",
    "        return  binario\n"
   ]
  },
  {
   "cell_type": "code",
   "execution_count": 37,
   "metadata": {},
   "outputs": [
    {
     "name": "stdout",
     "output_type": "stream",
     "text": [
      "Fraccion 1 / 2 : 0.5 y en binario: 0.1\n",
      "Fraccion 1 / 3 : 0.3333333333333333 y en binario: 0.010101010101010101010101010101010101010101010101010101\n",
      "Fraccion 1 / 4 : 0.25 y en binario: 0.01\n",
      "Fraccion 1 / 5 : 0.2 y en binario: 0.001100110011001100110011001100110011001100110011001101\n",
      "Fraccion 1 / 6 : 0.16666666666666666 y en binario: 0.0010101010101010101010101010101010101010101010101010101\n",
      "Fraccion 1 / 7 : 0.14285714285714285 y en binario: 0.001001001001001001001001001001001001001001001001001001\n",
      "Fraccion 1 / 8 : 0.125 y en binario: 0.001\n",
      "Fraccion 1 / 9 : 0.1111111111111111 y en binario: 0.000111000111000111000111000111000111000111000111000111\n"
     ]
    }
   ],
   "source": [
    "for e in range(2,10):\n",
    "    print('Fraccion 1 / {0} : {1} y en binario: {2}'.format(e, 1/e, NumeroBinarioFraccion(1/e)))\n"
   ]
  },
  {
   "cell_type": "code",
   "execution_count": 39,
   "metadata": {},
   "outputs": [],
   "source": [
    "def FraccionBinaria(numerador, denominador):\n",
    "    \n",
    "    if type(numerador) != int or type(denominador) != int:\n",
    "        return None\n",
    "    \n",
    "    elif numerador <= 0 or denominador <= 0:\n",
    "        return None\n",
    "    \n",
    "    fraccion = numerador / denominador\n",
    "    entero = int(fraccion)\n",
    "    decimal = round(fraccion % 1,20)\n",
    "    #print(entero, decimal)\n",
    "\n",
    "    binario_entero = []\n",
    "    division_entero = True\n",
    "\n",
    "    while len(binario_decimal) < 21:\n",
    "        binario_decimal.append(int(decimal*2))\n",
    "        if decimal*2 == 1.0:\n",
    "            break\n",
    "        elif decimal*2 > 1:\n",
    "            decimal = (decimal*2)-1\n",
    "        else:\n",
    "            decimal = decimal*2\n",
    "    binario_decimal = ''.join(map(str,binario_decimal))\n",
    "\n",
    "    resultado = float(binario_entero + '.' + binario_decimal)\n",
    "        \n",
    "    #print(binario_entero)\n",
    "    #print(binario_decimal)\n",
    "    return resultado\n",
    "\n"
   ]
  },
  {
   "cell_type": "code",
   "execution_count": 41,
   "metadata": {},
   "outputs": [
    {
     "ename": "UnboundLocalError",
     "evalue": "cannot access local variable 'binario_decimal' where it is not associated with a value",
     "output_type": "error",
     "traceback": [
      "\u001b[1;31m---------------------------------------------------------------------------\u001b[0m",
      "\u001b[1;31mUnboundLocalError\u001b[0m                         Traceback (most recent call last)",
      "Cell \u001b[1;32mIn[41], line 2\u001b[0m\n\u001b[0;32m      1\u001b[0m \u001b[39mfor\u001b[39;00m e \u001b[39min\u001b[39;00m \u001b[39mrange\u001b[39m(\u001b[39m2\u001b[39m,\u001b[39m10\u001b[39m):\n\u001b[1;32m----> 2\u001b[0m     \u001b[39mprint\u001b[39m(\u001b[39m'\u001b[39m\u001b[39mFraccion 1 / \u001b[39m\u001b[39m{0}\u001b[39;00m\u001b[39m : \u001b[39m\u001b[39m{1}\u001b[39;00m\u001b[39m y en binario: \u001b[39m\u001b[39m{2}\u001b[39;00m\u001b[39m'\u001b[39m\u001b[39m.\u001b[39mformat(e, \u001b[39m1\u001b[39m\u001b[39m/\u001b[39me, FraccionBinaria(\u001b[39m1\u001b[39;49m,e)))\n",
      "Cell \u001b[1;32mIn[39], line 17\u001b[0m, in \u001b[0;36mFraccionBinaria\u001b[1;34m(numerador, denominador)\u001b[0m\n\u001b[0;32m     14\u001b[0m binario_entero \u001b[39m=\u001b[39m []\n\u001b[0;32m     15\u001b[0m division_entero \u001b[39m=\u001b[39m \u001b[39mTrue\u001b[39;00m\n\u001b[1;32m---> 17\u001b[0m \u001b[39mwhile\u001b[39;00m \u001b[39mlen\u001b[39m(binario_decimal) \u001b[39m<\u001b[39m \u001b[39m21\u001b[39m:\n\u001b[0;32m     18\u001b[0m     binario_decimal\u001b[39m.\u001b[39mappend(\u001b[39mint\u001b[39m(decimal\u001b[39m*\u001b[39m\u001b[39m2\u001b[39m))\n\u001b[0;32m     19\u001b[0m     \u001b[39mif\u001b[39;00m decimal\u001b[39m*\u001b[39m\u001b[39m2\u001b[39m \u001b[39m==\u001b[39m \u001b[39m1.0\u001b[39m:\n",
      "\u001b[1;31mUnboundLocalError\u001b[0m: cannot access local variable 'binario_decimal' where it is not associated with a value"
     ]
    }
   ],
   "source": [
    "for e in range(2,10):\n",
    "    print('Fraccion 1 / {0} : {1} y en binario: {2}'.format(e, 1/e, FraccionBinaria(1,e)))\n"
   ]
  },
  {
   "cell_type": "code",
   "execution_count": 42,
   "metadata": {},
   "outputs": [],
   "source": [
    "def FraccionBinario(fraccion, k):\n",
    "    '''Esta función transforma un número decimal en número binario.\n",
    "    param: \n",
    "    fraccion: Número decimal a transformar\n",
    "    k: número de dígitos o precisión del decimal''' \n",
    "    \n",
    "    entero = int(fraccion)\n",
    "    decimal = fraccion - entero\n",
    "    \n",
    "    #Transformo primero la parte entera de la fracción\n",
    "    lista_resto = [] \n",
    "    while entero > 0: \n",
    "        lista_resto.append(entero % 2) \n",
    "        entero = entero//2\n",
    "    binario_entero = ''.join(map(str,lista_resto[::-1]))\n",
    "\n",
    "    #Ahora transformo la parte decimal de la fracción\n",
    "    lista_enteros = []\n",
    "    while k > 0:  \n",
    "        decimal = decimal * 2\n",
    "        ent = int(decimal)\n",
    "        lista_enteros.append(ent)\n",
    "        decimal = decimal - ent\n",
    "        k -=1\n",
    "    binario_decimal = ''.join(map(str,lista_enteros))\n",
    "\n",
    "    return binario_entero+'.'+binario_decimal\n"
   ]
  },
  {
   "cell_type": "code",
   "execution_count": 44,
   "metadata": {},
   "outputs": [
    {
     "name": "stdout",
     "output_type": "stream",
     "text": [
      "Fraccion 1 / 2 : 0.5 y en binario: .100000000000000000000000\n",
      "Fraccion 1 / 3 : 0.3333333333333333 y en binario: .010101010101010101010101\n",
      "Fraccion 1 / 4 : 0.25 y en binario: .010000000000000000000000\n",
      "Fraccion 1 / 5 : 0.2 y en binario: .001100110011001100110011\n",
      "Fraccion 1 / 6 : 0.16666666666666666 y en binario: .001010101010101010101010\n",
      "Fraccion 1 / 7 : 0.14285714285714285 y en binario: .001001001001001001001001\n",
      "Fraccion 1 / 8 : 0.125 y en binario: .001000000000000000000000\n",
      "Fraccion 1 / 9 : 0.1111111111111111 y en binario: .000111000111000111000111\n"
     ]
    }
   ],
   "source": [
    "for e in range(2,10):\n",
    "    print('Fraccion 1 / {0} : {1} y en binario: {2}'.format(e, 1/e, FraccionBinario(1/e, 24)))\n"
   ]
  },
  {
   "cell_type": "code",
   "execution_count": 45,
   "metadata": {},
   "outputs": [
    {
     "name": "stdout",
     "output_type": "stream",
     "text": [
      "[0, 1, 0, 1]\n"
     ]
    }
   ],
   "source": [
    "def decimal_a_binario(decimal, precision):\n",
    "    if decimal >= 1 or decimal <= 0:\n",
    "        return \"Error: el número debe ser mayor a cero y menor a uno\"\n",
    "\n",
    "    bits = []  # Lista para almacenar los bits del número binario\n",
    "\n",
    "    for _ in range(precision):\n",
    "        \n",
    "        decimal = decimal * 2\n",
    "        bit = int(decimal) # Obtenemos la parte entera de la multiplicación\n",
    "        bits.append(bit)\n",
    "        \n",
    "        decimal = decimal - bit # para obtener la parte fraccionaria\n",
    "    bits.reverse()\n",
    "    return bits\n",
    "\n",
    "numero_decimal = 0.625\n",
    "numero_binario = decimal_a_binario(numero_decimal, 4)  # Especificamos una precisión de 4 bits\n",
    "\n",
    "print(numero_binario)  # Salida: [0, 1, 0, 1]\n"
   ]
  },
  {
   "cell_type": "code",
   "execution_count": 47,
   "metadata": {},
   "outputs": [
    {
     "name": "stdout",
     "output_type": "stream",
     "text": [
      "Fraccion 1 / 2 : 0.5 y en binario: .100000000000000000000000\n",
      "Fraccion 1 / 3 : 0.3333333333333333 y en binario: .010101010101010101010101\n",
      "Fraccion 1 / 4 : 0.25 y en binario: .010000000000000000000000\n",
      "Fraccion 1 / 5 : 0.2 y en binario: .001100110011001100110011\n",
      "Fraccion 1 / 6 : 0.16666666666666666 y en binario: .001010101010101010101010\n",
      "Fraccion 1 / 7 : 0.14285714285714285 y en binario: .001001001001001001001001\n",
      "Fraccion 1 / 8 : 0.125 y en binario: .001000000000000000000000\n",
      "Fraccion 1 / 9 : 0.1111111111111111 y en binario: .000111000111000111000111\n"
     ]
    }
   ],
   "source": [
    "for e in range(2,10):\n",
    "    print('Fraccion 1 / {0} : {1} y en binario: {2}'.format(e, 1/e, FraccionBinario(1/e, 24)))\n"
   ]
  },
  {
   "cell_type": "code",
   "execution_count": null,
   "metadata": {},
   "outputs": [],
   "source": [
    "nombre = 'GuAAanzo' #Gonzalo\n",
    "apellido = '' #Valor faltante\n"
   ]
  },
  {
   "cell_type": "code",
   "execution_count": null,
   "metadata": {},
   "outputs": [],
   "source": [
    "excel = 'Alumnos FT14.xlsx'\n",
    "\n",
    "open(excel, 'r')"
   ]
  },
  {
   "cell_type": "markdown",
   "metadata": {},
   "source": [
    "¿Cuantos alumnso hay?\n",
    "\n",
    "Edad promedio\n",
    "\n",
    "Cantidad de mujeres y hombres\n",
    "\n"
   ]
  },
  {
   "cell_type": "code",
   "execution_count": null,
   "metadata": {},
   "outputs": [],
   "source": []
  }
 ],
 "metadata": {
  "kernelspec": {
   "display_name": "Python 3.11.3 64-bit",
   "language": "python",
   "name": "python3"
  },
  "language_info": {
   "codemirror_mode": {
    "name": "ipython",
    "version": 3
   },
   "file_extension": ".py",
   "mimetype": "text/x-python",
   "name": "python",
   "nbconvert_exporter": "python",
   "pygments_lexer": "ipython3",
   "version": "3.11.3"
  },
  "orig_nbformat": 4,
  "vscode": {
   "interpreter": {
    "hash": "52634da84371cba311ea128a5ea7cdc41ff074b781779e754b270ff9f8153cee"
   }
  }
 },
 "nbformat": 4,
 "nbformat_minor": 2
}
