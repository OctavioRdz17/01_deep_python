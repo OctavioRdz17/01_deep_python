{
 "cells": [
  {
   "cell_type": "code",
   "execution_count": 2,
   "metadata": {},
   "outputs": [],
   "source": [
    "class Pila(object): #LIFO Last inn, First out\n",
    "    def __init__(self):\n",
    "        self.__list = []\n",
    "\n",
    "    def push(self,item):\n",
    "        self.__list.append(item)\n",
    "\n",
    "    def pop(self):\n",
    "        return self.__list.pop()\n",
    "    \n",
    "    def peek(self):\n",
    "        if self.__list:\n",
    "            return self.__list[-1]\n",
    "        else:\n",
    "            return None\n",
    "    \n",
    "    def is_empty(self):\n",
    "        return self.__list == []\n",
    "    \n",
    "    def size(self):\n",
    "        return len(self.__list)\n"
   ]
  },
  {
   "cell_type": "code",
   "execution_count": 32,
   "metadata": {},
   "outputs": [],
   "source": [
    "# FIFO //first in First out\n",
    "class Cola(object):\n",
    "    def __init__(self):\n",
    "        self.__list = []\n",
    "\n",
    "    #agregar elemento a la cola\n",
    "    def enqueue(self,item):\n",
    "        self.__list.append(item)\n",
    "    \n",
    "    #quitar un elemento de la cola\n",
    "    def dequeue(self):\n",
    "        return self.__list.pop(0)\n",
    "    \n",
    "    #obtener el elemento superior de la lista\n",
    "    def first(self):\n",
    "        if self.__list:\n",
    "            return self.__list[0]\n",
    "        else:\n",
    "            return None\n",
    "\n",
    "    # revisar si esta vacia\n",
    "    def is_empty(self):\n",
    "        return self.__list == []\n",
    "    \n",
    "    def size(self):\n",
    "        return (len(self.__list))\n",
    "    \n",
    "    def mostrar(self):\n",
    "        if self.__list:\n",
    "            for item in self.__list:\n",
    "                print(item)\n",
    "            else:\n",
    "                print('No hay elementos')\n"
   ]
  },
  {
   "cell_type": "code",
   "execution_count": 30,
   "metadata": {},
   "outputs": [
    {
     "data": {
      "text/plain": [
       "True"
      ]
     },
     "execution_count": 30,
     "metadata": {},
     "output_type": "execute_result"
    }
   ],
   "source": [
    "q = Estructura_cola()\n",
    "\n",
    "q.is_empty()"
   ]
  },
  {
   "cell_type": "code",
   "execution_count": 33,
   "metadata": {},
   "outputs": [
    {
     "data": {
      "text/plain": [
       "12"
      ]
     },
     "execution_count": 33,
     "metadata": {},
     "output_type": "execute_result"
    }
   ],
   "source": [
    "for i in range (1,7):\n",
    "    q.enqueue(i)\n",
    "q.size()"
   ]
  },
  {
   "cell_type": "code",
   "execution_count": 35,
   "metadata": {},
   "outputs": [],
   "source": [
    "vacia = Estructura_cola()\n"
   ]
  },
  {
   "cell_type": "code",
   "execution_count": null,
   "metadata": {},
   "outputs": [],
   "source": []
  }
 ],
 "metadata": {
  "kernelspec": {
   "display_name": "Python 3",
   "language": "python",
   "name": "python3"
  },
  "language_info": {
   "codemirror_mode": {
    "name": "ipython",
    "version": 3
   },
   "file_extension": ".py",
   "mimetype": "text/x-python",
   "name": "python",
   "nbconvert_exporter": "python",
   "pygments_lexer": "ipython3",
   "version": "3.10.8"
  },
  "orig_nbformat": 4
 },
 "nbformat": 4,
 "nbformat_minor": 2
}
