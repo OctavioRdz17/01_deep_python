{
 "cells": [
  {
   "cell_type": "markdown",
   "metadata": {},
   "source": [
    "# Práctica Clase 5"
   ]
  },
  {
   "cell_type": "markdown",
   "metadata": {},
   "source": [
    "1) Implementar un juego, que consista en apilar números enteros del 1 al 20, de forma aleatoria, para lo cual debe usarse una estructura de Pila. \n",
    "Luego, el usuario debe elegir un número de veces en que se va a quitar elementos de la pila, los cuales, sumados entre sí, no deben superar el valor de 50.\n",
    "El usuario pierde si la suma supera ese valor. Si no lo supera, gana, pero su calificación será 10 menos el número elementos que falten quitar para todavía no superar 50.\n",
    "El programa debe informar si perdió, y si ganó, con qué calificación lo hizo.\n",
    "\n",
    "Consideraciones:<br>\n",
    "a. Se puede usar la función input() para obtener una entrada de teclado.<br>\n",
    "b. Se puede usar la el modulo random para obtener valores aleatorios."
   ]
  },
  {
   "cell_type": "code",
   "execution_count": 34,
   "metadata": {},
   "outputs": [
    {
     "name": "stdout",
     "output_type": "stream",
     "text": [
      "Felicidades, has ganado con un puntaje de 50, tu calificacion es 10\n"
     ]
    }
   ],
   "source": [
    "import importlib\n",
    "import modulo_x as mx\n",
    "import random\n",
    "\n",
    "importlib.reload(mx)\n",
    "\n",
    "# input\n",
    "num_quitar = int(input('Ingresa Cuantos numeros vas a tomar de la pila'))\n",
    "\n",
    "\n",
    "lista_numeros = [x for x in range(1,21)]\n",
    "\n",
    "random.shuffle(lista_numeros)\n",
    "listaRandom = mx.Pila()\n",
    "\n",
    "[listaRandom.push(x) for x in lista_numeros]\n",
    "\n",
    "# Crear una funcion que cuente los resultados \n",
    "puntaje = 0\n",
    "cont = 1\n",
    "\n",
    "while cont <= num_quitar:\n",
    "    puntaje += listaRandom.pop()\n",
    "    cont += 1\n",
    "\n",
    "if puntaje <= 50:\n",
    "    new_puntaje = puntaje\n",
    "    calif = 10\n",
    "    \n",
    "    while new_puntaje < 50:\n",
    "        new_puntaje = new_puntaje + listaRandom.pop()\n",
    "        if new_puntaje > 50:\n",
    "            break\n",
    "        else:\n",
    "            calif -= 1\n",
    "\n",
    "\n",
    "    print(f'Felicidades, has ganado con un puntaje de {puntaje}, tu calificacion es {calif}' )\n",
    "else:\n",
    "    print(f'Lo siento perdiste la suma fue {puntaje} es mayor que 50 ')\n",
    "\n",
    "\n",
    "\n",
    "# print (lista_numeros)\n",
    "# print (listaRandom.mostrar())\n",
    "# print (puntaje)\n",
    "\n",
    "\n"
   ]
  },
  {
   "cell_type": "markdown",
   "metadata": {},
   "source": [
    "2) Implementar un juego donde constas de 2 jarras, de capacidad 5 y 3 litros respectivamente, y debes colocar 4 litros en la jarra de 5L.\n",
    "Las opciones posibles son:\n",
    "* Llenar la jarra de 3 litros\n",
    "* Llenar la jarra de 5 litros\n",
    "* Vaciar la jarra de 3 litros\n",
    "* Vaciar la jarra de 5 litros\n",
    "* Verter el contenido de la jarra de 3 litros en la de 5 litros\n",
    "* Verter el contenido de la jarra de 5 litros en la de 3 litros"
   ]
  },
  {
   "cell_type": "code",
   "execution_count": 55,
   "metadata": {},
   "outputs": [],
   "source": [
    "class Jarras():\n",
    "    def __init__(self):\n",
    "        self.__jarra3 = 0\n",
    "        self.__jarra5 = 0\n",
    "\n",
    "    def llenar_J3(self):\n",
    "        self.__jarra3 = 3\n",
    "        print('Se lleno la Jarra de 3 Litros')\n",
    "        print(f'Jarra de 3L = {self.__jarra3}\\nJarra de 5L = {self.__jarra5}')\n",
    "    \n",
    "    def llenar_J5(self):\n",
    "        self.__jarra5 = 5\n",
    "        print('Se lleno la Jarra de 5 Litros')\n",
    "        print(f'Jarra de 3L = {self.__jarra3}\\nJarra de 5L = {self.__jarra5}') \n",
    "\n",
    "    def vaciar_J3(self):\n",
    "        self.__jarra3 = 0\n",
    "        print('Se Vacio la Jarra de 3 Litros')\n",
    "        print(f'Jarra de 3L = {self.__jarra3}\\nJarra de 5L = {self.__jarra5}') \n",
    "\n",
    "    def vaciar_J5(self):\n",
    "        self.__jarra5 = 0\n",
    "        print('Se Vacio la Jarra de 5 Litros')\n",
    "        print(f'Jarra de 3L = {self.__jarra3}\\nJarra de 5L = {self.__jarra5}') \n",
    "    \n",
    "    def verter_j3_en_j5(self):\n",
    "        if (self.__jarra5 + self.__jarra3) > 5:\n",
    "            self.__jarra3 = self.__jarra5 + self.__jarra3 - 5\n",
    "            self.__jarra5 = 5\n",
    "        else:\n",
    "            self.__jarra5 = self.__jarra5 + self.__jarra3\n",
    "            self.__jarra3 = 0 \n",
    "        print('Se Vertio la Jarra de 3 Litros en la de 5 Litros')\n",
    "        print(f'Jarra de 3L = {self.__jarra3}\\nJarra de 5L = {self.__jarra5}') \n",
    "\n",
    "    def verter_j5_en_j3(self):\n",
    "        if (self.__jarra5 + self.__jarra3) > 3:\n",
    "            self.__jarra5 = self.__jarra5 + self.__jarra3 - 3\n",
    "            self.__jarra3 = 3\n",
    "        else:\n",
    "            self.__jarra3 = self.__jarra5 + self.__jarra3\n",
    "            self.__jarra5 = 0 \n",
    "        print('Se Vertio la Jarra de 5 Litros en la de 3 Litros')\n",
    "        print(f'Jarra de 3L = {self.__jarra3}\\nJarra de 5L = {self.__jarra5}') "
   ]
  },
  {
   "cell_type": "code",
   "execution_count": 56,
   "metadata": {},
   "outputs": [
    {
     "name": "stdout",
     "output_type": "stream",
     "text": [
      "Se lleno la Jarra de 3 Litros\n",
      "Jarra de 3L = 3\n",
      "Jarra de 5L = 0\n",
      "Se Vertio la Jarra de 3 Litros en la de 5 Litros\n",
      "Jarra de 3L = 0\n",
      "Jarra de 5L = 3\n",
      "Se lleno la Jarra de 3 Litros\n",
      "Jarra de 3L = 3\n",
      "Jarra de 5L = 3\n",
      "Se Vertio la Jarra de 3 Litros en la de 5 Litros\n",
      "Jarra de 3L = 1\n",
      "Jarra de 5L = 5\n",
      "Se Vacio la Jarra de 5 Litros\n",
      "Jarra de 3L = 1\n",
      "Jarra de 5L = 0\n",
      "Se Vertio la Jarra de 3 Litros en la de 5 Litros\n",
      "Jarra de 3L = 0\n",
      "Jarra de 5L = 1\n",
      "Se lleno la Jarra de 3 Litros\n",
      "Jarra de 3L = 3\n",
      "Jarra de 5L = 1\n",
      "Se Vertio la Jarra de 3 Litros en la de 5 Litros\n",
      "Jarra de 3L = 0\n",
      "Jarra de 5L = 4\n"
     ]
    }
   ],
   "source": [
    "j = Jarras()\n",
    "j.llenar_J3()\n",
    "j.verter_j3_en_j5()\n",
    "j.llenar_J3()\n",
    "j.verter_j3_en_j5()\n",
    "j.vaciar_J5()\n",
    "j.verter_j3_en_j5()\n",
    "j.llenar_J3()\n",
    "j.verter_j3_en_j5()\n",
    "\n"
   ]
  }
 ],
 "metadata": {
  "kernelspec": {
   "display_name": "Python 3",
   "language": "python",
   "name": "python3"
  },
  "language_info": {
   "codemirror_mode": {
    "name": "ipython",
    "version": 3
   },
   "file_extension": ".py",
   "mimetype": "text/x-python",
   "name": "python",
   "nbconvert_exporter": "python",
   "pygments_lexer": "ipython3",
   "version": "3.10.8"
  }
 },
 "nbformat": 4,
 "nbformat_minor": 4
}
