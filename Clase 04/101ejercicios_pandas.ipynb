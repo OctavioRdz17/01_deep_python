{
 "cells": [
  {
   "attachments": {},
   "cell_type": "markdown",
   "metadata": {},
   "source": [
    "Ejercicios de la pagina\n",
    "https://www.machinelearningplus.com/python/101-pandas-exercises-python/"
   ]
  },
  {
   "attachments": {},
   "cell_type": "markdown",
   "metadata": {},
   "source": [
    "1. How to import pandas and check the version?"
   ]
  },
  {
   "cell_type": "code",
   "execution_count": 2,
   "metadata": {},
   "outputs": [
    {
     "name": "stdout",
     "output_type": "stream",
     "text": [
      "2.0.2\n"
     ]
    }
   ],
   "source": [
    "import numpy as np  # optional\n",
    "import pandas as pd\n",
    "print(pd.__version__)\n",
    "# print(pd.show_versions(as_json=True))"
   ]
  },
  {
   "attachments": {},
   "cell_type": "markdown",
   "metadata": {},
   "source": [
    "2. How to create a series from a list, numpy array and dict?"
   ]
  },
  {
   "cell_type": "code",
   "execution_count": 8,
   "metadata": {},
   "outputs": [
    {
     "name": "stdout",
     "output_type": "stream",
     "text": [
      "0    a\n",
      "1    b\n",
      "2    c\n",
      "3    e\n",
      "4    d\n",
      "dtype: object\n",
      "0    0\n",
      "1    1\n",
      "2    2\n",
      "3    3\n",
      "4    4\n",
      "dtype: int32\n",
      "a    0\n",
      "b    1\n",
      "c    2\n",
      "e    3\n",
      "d    4\n",
      "dtype: int32\n"
     ]
    }
   ],
   "source": [
    "mylist = list('abcedfghijklmnopqrstuvwxyz')\n",
    "myarr = np.arange(26)\n",
    "mydict = dict(zip(mylist, myarr))\n",
    "\n",
    "lis = pd.Series(mylist)\n",
    "arrr = pd.Series(myarr)\n",
    "dicc = pd.Series(mydict)\n",
    "\n",
    "print(lis.head())\n",
    "print(arrr.head())\n",
    "print(dicc.head())"
   ]
  },
  {
   "attachments": {},
   "cell_type": "markdown",
   "metadata": {},
   "source": [
    "3. How to convert the index of a series into a column of a dataframe?\n",
    "\n",
    "    Difficulty Level: L1\n",
    "\n",
    "    Convert the series ser into a dataframe with its index as another column on the dataframe.\n"
   ]
  },
  {
   "cell_type": "code",
   "execution_count": 38,
   "metadata": {},
   "outputs": [
    {
     "data": {
      "text/html": [
       "<div>\n",
       "<style scoped>\n",
       "    .dataframe tbody tr th:only-of-type {\n",
       "        vertical-align: middle;\n",
       "    }\n",
       "\n",
       "    .dataframe tbody tr th {\n",
       "        vertical-align: top;\n",
       "    }\n",
       "\n",
       "    .dataframe thead th {\n",
       "        text-align: right;\n",
       "    }\n",
       "</style>\n",
       "<table border=\"1\" class=\"dataframe\">\n",
       "  <thead>\n",
       "    <tr style=\"text-align: right;\">\n",
       "      <th></th>\n",
       "      <th>index</th>\n",
       "      <th>0</th>\n",
       "    </tr>\n",
       "  </thead>\n",
       "  <tbody>\n",
       "    <tr>\n",
       "      <th>0</th>\n",
       "      <td>a</td>\n",
       "      <td>0</td>\n",
       "    </tr>\n",
       "    <tr>\n",
       "      <th>1</th>\n",
       "      <td>b</td>\n",
       "      <td>1</td>\n",
       "    </tr>\n",
       "    <tr>\n",
       "      <th>2</th>\n",
       "      <td>c</td>\n",
       "      <td>2</td>\n",
       "    </tr>\n",
       "    <tr>\n",
       "      <th>3</th>\n",
       "      <td>e</td>\n",
       "      <td>3</td>\n",
       "    </tr>\n",
       "    <tr>\n",
       "      <th>4</th>\n",
       "      <td>d</td>\n",
       "      <td>4</td>\n",
       "    </tr>\n",
       "  </tbody>\n",
       "</table>\n",
       "</div>"
      ],
      "text/plain": [
       "  index  0\n",
       "0     a  0\n",
       "1     b  1\n",
       "2     c  2\n",
       "3     e  3\n",
       "4     d  4"
      ]
     },
     "execution_count": 38,
     "metadata": {},
     "output_type": "execute_result"
    }
   ],
   "source": [
    "mylist = list('abcedfghijklmnopqrstuvwxyz')\n",
    "myarr = np.arange(26)\n",
    "mydict = dict(zip(mylist, myarr))\n",
    "df = pd.Series(data=mydict)\n",
    "\n",
    "\n",
    "df.to_frame() # convirte la serie a datafram\n",
    "df.reset_index().head() # agrega indices al dataframe\n",
    "\n"
   ]
  },
  {
   "attachments": {},
   "cell_type": "markdown",
   "metadata": {},
   "source": [
    "4. How to combine many series to form a dataframe?\n",
    "    Difficulty Level: L1\n",
    "\n",
    "    Combine ser1 and ser2 to form a dataframe.\n",
    "\n",
    "    Input"
   ]
  },
  {
   "cell_type": "code",
   "execution_count": 44,
   "metadata": {},
   "outputs": [
    {
     "name": "stdout",
     "output_type": "stream",
     "text": [
      "   0  1\n",
      "0  a  0\n",
      "1  b  1\n",
      "2  c  2\n",
      "3  e  3\n",
      "4  d  4\n",
      "  Col1  Col2\n",
      "0    a     0\n",
      "1    b     1\n",
      "2    c     2\n",
      "3    e     3\n",
      "4    d     4\n"
     ]
    }
   ],
   "source": [
    "import numpy as np\n",
    "ser1 = pd.Series(list('abcedfghijklmnopqrstuvwxyz'))\n",
    "ser2 = pd.Series(np.arange(26))\n",
    "\n",
    "# Solucion 1 concat\n",
    "df = pd.concat([ser1, ser2], axis=1)\n",
    "print(df.head())\n",
    "\n",
    "# Solucion 2 creando las columnas con dataframe y dicc\n",
    "df = pd.DataFrame({'Col1':ser1,\n",
    "                   'Col2':ser2})\n",
    "print(df.head())\n"
   ]
  },
  {
   "attachments": {},
   "cell_type": "markdown",
   "metadata": {},
   "source": [
    "5. How to assign name to the series’ index?\n",
    "\n",
    "    Difficulty Level: L1\n",
    "\n",
    "    Give a name to the series ser calling it ‘alphabets’.\n",
    "\n",
    "    Input"
   ]
  },
  {
   "cell_type": "code",
   "execution_count": 47,
   "metadata": {},
   "outputs": [
    {
     "data": {
      "text/plain": [
       "0    a\n",
       "1    b\n",
       "2    c\n",
       "Name: Alfabeto, dtype: object"
      ]
     },
     "execution_count": 47,
     "metadata": {},
     "output_type": "execute_result"
    }
   ],
   "source": [
    "ser = pd.Series(list('abcedfghijklmnopqrstuvwxyz'))\n",
    "\n",
    "ser.name = 'Alfabeto'\n",
    "ser.head(3)\n"
   ]
  },
  {
   "attachments": {},
   "cell_type": "markdown",
   "metadata": {},
   "source": [
    "6. How to get the items of series A not present in series B?\n",
    "Difficulty Level: L2\n",
    "\n",
    "    From ser1 remove items present in ser2."
   ]
  },
  {
   "cell_type": "code",
   "execution_count": 52,
   "metadata": {},
   "outputs": [
    {
     "data": {
      "text/plain": [
       "0    1\n",
       "1    2\n",
       "2    3\n",
       "dtype: int64"
      ]
     },
     "execution_count": 52,
     "metadata": {},
     "output_type": "execute_result"
    }
   ],
   "source": [
    "ser1 = pd.Series([1, 2, 3, 4, 5])\n",
    "ser2 = pd.Series([4, 5, 6, 7, 8])\n",
    "\n",
    "ser1[~ser1.isin(ser2)]\n",
    "# inverts resulta ~\n",
    "# isin regresa bool si cada uno de los elementos esta en la lista o serie administrada como parametro"
   ]
  },
  {
   "attachments": {},
   "cell_type": "markdown",
   "metadata": {},
   "source": [
    "7. How to get the items not common to both series A and series B?\n",
    "Difficulty Level: L2\n",
    "\n",
    "    Get all items of ser1 and ser2 not common to both."
   ]
  },
  {
   "cell_type": "code",
   "execution_count": 56,
   "metadata": {},
   "outputs": [
    {
     "data": {
      "text/plain": [
       "0    1\n",
       "1    2\n",
       "2    3\n",
       "5    6\n",
       "6    7\n",
       "7    8\n",
       "dtype: int64"
      ]
     },
     "execution_count": 56,
     "metadata": {},
     "output_type": "execute_result"
    }
   ],
   "source": [
    "ser1 = pd.Series([1, 2, 3, 4, 5])\n",
    "ser2 = pd.Series([4, 5, 6, 7, 8])\n",
    "\n",
    "ser_u = pd.Series(np.union1d(ser1, ser2))  # union\n",
    "ser_i = pd.Series(np.intersect1d(ser1, ser2))  # intersect\n",
    "ser_f = ser_u[~ser_u.isin(ser_i)]\n",
    "ser_f"
   ]
  },
  {
   "attachments": {},
   "cell_type": "markdown",
   "metadata": {},
   "source": [
    "8. How to get the minimum, 25th percentile, median, 75th, and max of a numeric series?\n",
    "Difficuty Level: L2\n",
    "\n",
    "    Compute the minimum, 25th percentile, median, 75th, and maximum of ser."
   ]
  },
  {
   "cell_type": "code",
   "execution_count": 55,
   "metadata": {},
   "outputs": [
    {
     "name": "stdout",
     "output_type": "stream",
     "text": [
      "318\n",
      "13.0\n",
      "[ 5.  7. 13. 16. 24.]\n"
     ]
    }
   ],
   "source": [
    "ser = pd.Series(np.random.randint(5, 25, 25))\n",
    "# ser = pd.Series(np.random.normal(10, 5, 25))\n",
    "print(ser.sum())\n",
    "print(ser.median())\n",
    "print(np.percentile(ser,q=[0,25,50,75,100]))\n",
    "\n"
   ]
  },
  {
   "attachments": {},
   "cell_type": "markdown",
   "metadata": {},
   "source": [
    "9. How to get frequency counts of unique items of a series?\n",
    "Difficulty Level: L1\n",
    "\n",
    "    Calculte the frequency counts of each unique value ser.\n",
    "\n",
    "    Input"
   ]
  },
  {
   "cell_type": "code",
   "execution_count": 73,
   "metadata": {},
   "outputs": [
    {
     "data": {
      "text/plain": [
       "b    6\n",
       "g    5\n",
       "d    5\n",
       "f    4\n",
       "a    3\n",
       "c    3\n",
       "e    2\n",
       "h    2\n",
       "Name: count, dtype: int64"
      ]
     },
     "execution_count": 73,
     "metadata": {},
     "output_type": "execute_result"
    }
   ],
   "source": [
    "ser = pd.Series(np.take(list('abcdefgh'), np.random.randint(8, size=30))) \n",
    "ser2 = ser.value_counts()\n",
    "# print(ser)\n",
    "ser2"
   ]
  },
  {
   "attachments": {},
   "cell_type": "markdown",
   "metadata": {},
   "source": [
    "10. How to keep only top 2 most frequent values as it is and replace everything else as ‘Other’?\n",
    "Difficulty Level: L2\n",
    "\n",
    "    From ser, keep the top 2 most frequent items as it is and replace everything else as ‘Other’."
   ]
  },
  {
   "cell_type": "code",
   "execution_count": 145,
   "metadata": {},
   "outputs": [
    {
     "name": "stdout",
     "output_type": "stream",
     "text": [
      "Top 2 Freq: 4 and 2\n",
      "0         4\n",
      "1         4\n",
      "2         2\n",
      "3         2\n",
      "4     Other\n",
      "5     Other\n",
      "6     Other\n",
      "7         4\n",
      "8         4\n",
      "9     Other\n",
      "10        2\n",
      "11    Other\n",
      "dtype: object\n"
     ]
    }
   ],
   "source": [
    "np.random.RandomState(100)\n",
    "ser = pd.Series(np.random.randint(1, 5, [12]))\n",
    "\n",
    "top2 = ser.value_counts().index                         # creamos la lista de los top mas repetidos\n",
    "ser[~ser.isin(top2[:2])] = 'Other'                      # Creamos un filtro que nos quita el top2\n",
    "print(\"Top 2 Freq:\", top2[0],'and',top2[1])             # Creamos Slice de la lista\n",
    "print(ser) \n",
    "\n"
   ]
  },
  {
   "attachments": {},
   "cell_type": "markdown",
   "metadata": {},
   "source": [
    "11. How to bin a numeric series to 10 groups of equal size?\n",
    "Difficulty Level: L2\n",
    "\n",
    "    Bin the series ser into 10 equal deciles and replace the values with the bin name.\n",
    "\n",
    "    Input\n",
    "    \n",
    "    ser = pd.Series(np.random.random(20))\n",
    "\n",
    "    Desire Output\n",
    "    \n",
    "        First 5 items\n",
    "            0    7th\n",
    "            1    9th\n",
    "            2    7th\n",
    "            3    3rd\n",
    "            4    8th\n",
    "            dtype: category\n",
    "            Categories (10, object): [1st < 2nd < 3rd < 4th ... 7th < 8th < 9th < 10th]"
   ]
  },
  {
   "cell_type": "code",
   "execution_count": null,
   "metadata": {},
   "outputs": [],
   "source": [
    "ser = pd.Series(np.random.random(20))"
   ]
  },
  {
   "attachments": {},
   "cell_type": "markdown",
   "metadata": {},
   "source": [
    "12. How to convert a numpy array to a dataframe of given shape? (L1)\n",
    "Difficulty Level: L1\n",
    "\n",
    "    Reshape the series ser into a dataframe with 7 rows and 5 columns"
   ]
  },
  {
   "cell_type": "code",
   "execution_count": null,
   "metadata": {},
   "outputs": [],
   "source": [
    "ser = pd.Series(np.random.randint(1, 10, 35))"
   ]
  },
  {
   "attachments": {},
   "cell_type": "markdown",
   "metadata": {},
   "source": [
    "13. How to find the positions of numbers that are multiples of 3 from a series?\n",
    "Difficulty Level: L2\n",
    "\n",
    "    Find the positions of numbers that are multiples of 3 from ser."
   ]
  },
  {
   "cell_type": "code",
   "execution_count": null,
   "metadata": {},
   "outputs": [],
   "source": [
    "ser = pd.Series(np.random.randint(1, 10, 7))"
   ]
  },
  {
   "attachments": {},
   "cell_type": "markdown",
   "metadata": {},
   "source": [
    "14. How to extract items at given positions from a series\n",
    "Difficulty Level: L1\n",
    "\n",
    "    From ser, extract the items at positions in list pos.\n",
    "    "
   ]
  },
  {
   "cell_type": "code",
   "execution_count": null,
   "metadata": {},
   "outputs": [],
   "source": [
    "ser = pd.Series(list('abcdefghijklmnopqrstuvwxyz'))\n",
    "pos = [0, 4, 8, 14, 20]"
   ]
  },
  {
   "attachments": {},
   "cell_type": "markdown",
   "metadata": {},
   "source": [
    "15. How to stack two series vertically and horizontally ?\n",
    "    Difficulty Level: L1\n",
    "\n",
    "    Stack ser1 and ser2 vertically and horizontally (to form a dataframe).\n",
    "    "
   ]
  },
  {
   "cell_type": "code",
   "execution_count": null,
   "metadata": {},
   "outputs": [],
   "source": [
    "ser1 = pd.Series(range(5))\n",
    "ser2 = pd.Series(list('abcde'))"
   ]
  },
  {
   "attachments": {},
   "cell_type": "markdown",
   "metadata": {},
   "source": [
    "16. How to get the positions of items of series A in another series B?\n",
    "    Difficulty Level: L2\n",
    "\n",
    "    Get the positions of items of ser2 in ser1 as a list.\n",
    "\n",
    "    Input\n",
    "\n",
    "    "
   ]
  },
  {
   "cell_type": "code",
   "execution_count": null,
   "metadata": {},
   "outputs": [],
   "source": [
    "ser1 = pd.Series([10, 9, 6, 5, 3, 1, 12, 8, 13])\n",
    "ser2 = pd.Series([1, 3, 10, 13])"
   ]
  },
  {
   "attachments": {},
   "cell_type": "markdown",
   "metadata": {},
   "source": [
    "17. How to compute the mean squared error on a truth and predicted series?\n",
    "Difficulty Level: L2\n",
    "\n",
    "    Compute the mean squared error of truth and pred series.\n",
    "\n",
    "    Input"
   ]
  },
  {
   "cell_type": "code",
   "execution_count": null,
   "metadata": {},
   "outputs": [],
   "source": [
    "truth = pd.Series(range(10))\n",
    "pred = pd.Series(range(10)) + np.random.random(10)"
   ]
  },
  {
   "attachments": {},
   "cell_type": "markdown",
   "metadata": {},
   "source": [
    "18. How to convert the first character of each element in a series to uppercase?\n",
    "    Difficulty Level: L2\n",
    "\n",
    "    Change the first character of each word to upper case in each word of ser."
   ]
  },
  {
   "cell_type": "code",
   "execution_count": null,
   "metadata": {},
   "outputs": [],
   "source": [
    "ser = pd.Series(['how', 'to', 'kick', 'ass?'])\n"
   ]
  },
  {
   "attachments": {},
   "cell_type": "markdown",
   "metadata": {},
   "source": [
    "19. How to calculate the number of characters in each word in a series?\n",
    "Difficulty Level: L2"
   ]
  },
  {
   "cell_type": "code",
   "execution_count": null,
   "metadata": {},
   "outputs": [],
   "source": [
    "ser = pd.Series(['how', 'to', 'kick', 'ass?'])"
   ]
  },
  {
   "attachments": {},
   "cell_type": "markdown",
   "metadata": {},
   "source": [
    "20. How to compute difference of differences between consequtive numbers of a series?\n",
    "Difficulty Level: L1\n",
    "\n",
    "Difference of differences between the consequtive numbers of ser.\n",
    "\n",
    "Desired Output\n",
    "\n",
    "    [nan, 2.0, 3.0, 4.0, 5.0, 6.0, 6.0, 8.0]\n",
    "    [nan, nan, 1.0, 1.0, 1.0, 1.0, 0.0, 2.0]"
   ]
  },
  {
   "cell_type": "code",
   "execution_count": null,
   "metadata": {},
   "outputs": [],
   "source": [
    "ser = pd.Series([1, 3, 6, 10, 15, 21, 27, 35])"
   ]
  },
  {
   "attachments": {},
   "cell_type": "markdown",
   "metadata": {},
   "source": [
    "21. How to convert a series of date-strings to a timeseries?\n",
    "Difficiulty Level: L2\n"
   ]
  },
  {
   "cell_type": "code",
   "execution_count": null,
   "metadata": {},
   "outputs": [],
   "source": [
    "ser = pd.Series(['01 Jan 2010', '02-02-2011', '20120303', '2013/04/04', '2014-05-05', '2015-06-06T12:20'])"
   ]
  },
  {
   "attachments": {},
   "cell_type": "markdown",
   "metadata": {},
   "source": [
    "22. How to get the day of month, week number, day of year and day of week from a series of date strings?\n",
    "Difficiulty Level: L2\n",
    "\n",
    "Get the day of month, week number, day of year and day of week from ser.\n",
    "\n",
    "Desired output\n",
    "\n",
    "    Date:  [1, 2, 3, 4, 5, 6]\n",
    "    Week number:  [53, 5, 9, 14, 19, 23]\n",
    "    Day num of year:  [1, 33, 63, 94, 125, 157]\n",
    "    Day of week:  ['Friday', 'Wednesday', 'Saturday', 'Thursday', 'Monday', 'Saturday']"
   ]
  },
  {
   "cell_type": "code",
   "execution_count": null,
   "metadata": {},
   "outputs": [],
   "source": [
    "ser = pd.Series(['01 Jan 2010', '02-02-2011', '20120303', '2013/04/04', '2014-05-05', '2015-06-06T12:20'])"
   ]
  },
  {
   "attachments": {},
   "cell_type": "markdown",
   "metadata": {},
   "source": [
    "23. How to convert year-month string to dates corresponding to the 4th day of the month?\n",
    "Difficiulty Level: L2\n",
    "Change\n",
    "ser to dates that start with 4th of the respective months.\n",
    "\n",
    "Desired Output\n",
    "\n",
    "    0   2010-01-04\n",
    "    1   2011-02-04\n",
    "    2   2012-03-04\n",
    "    dtype: datetime64[ns]\n"
   ]
  },
  {
   "cell_type": "code",
   "execution_count": null,
   "metadata": {},
   "outputs": [],
   "source": [
    "ser = pd.Series(['Jan 2010', 'Feb 2011', 'Mar 2012'])"
   ]
  },
  {
   "attachments": {},
   "cell_type": "markdown",
   "metadata": {},
   "source": [
    "24. How to filter words that contain atleast 2 vowels from a series?\n",
    "Difficiulty Level: L3\n",
    "\n",
    "From ser, extract words that contain atleast 2 vowels.\n",
    "\n",
    "Desired Output\n",
    "\n",
    "    0     Apple\n",
    "    1    Orange\n",
    "    4     Money\n",
    "    dtype: object"
   ]
  },
  {
   "cell_type": "code",
   "execution_count": null,
   "metadata": {},
   "outputs": [],
   "source": [
    "ser = pd.Series(['Apple', 'Orange', 'Plan', 'Python', 'Money'])\n"
   ]
  },
  {
   "attachments": {},
   "cell_type": "markdown",
   "metadata": {},
   "source": [
    "25. How to filter valid emails from a series?\n",
    "Difficiulty Level: L3\n",
    "\n",
    "    Extract the valid emails from the series emails. The regex pattern for valid emails is provided as reference.\n",
    "\n",
    "    Desired Output\n",
    "\n",
    "        1    rameses@egypt.com\n",
    "        2            matt@t.co\n",
    "        3    narendra@modi.com\n",
    "        dtype: object"
   ]
  },
  {
   "cell_type": "code",
   "execution_count": null,
   "metadata": {},
   "outputs": [],
   "source": [
    "emails = pd.Series(['buying books at amazom.com', 'rameses@egypt.com', 'matt@t.co', 'narendra@modi.com'])\n",
    "pattern ='[A-Za-z0-9._%+-]+@[A-Za-z0-9.-]+\\\\.[A-Za-z]{2,4}'"
   ]
  },
  {
   "attachments": {},
   "cell_type": "markdown",
   "metadata": {},
   "source": [
    "26. How to get the mean of a series grouped by another series?\n",
    "Difficiulty Level: L2\n",
    "    Compute the mean of weights of each fruit.\n",
    "     \n",
    "    Desire output\n",
    "\n",
    "    Values can change due randomnes\n",
    "    \n",
    "        apple     6.0\n",
    "        banana    4.0\n",
    "        carrot    5.8\n",
    "        dtype: float64     "
   ]
  },
  {
   "cell_type": "code",
   "execution_count": 146,
   "metadata": {},
   "outputs": [
    {
     "name": "stdout",
     "output_type": "stream",
     "text": [
      "[1.0, 2.0, 3.0, 4.0, 5.0, 6.0, 7.0, 8.0, 9.0, 10.0]\n",
      "['carrot', 'apple', 'banana', 'banana', 'carrot', 'apple', 'carrot', 'apple', 'banana', 'carrot']\n"
     ]
    }
   ],
   "source": [
    "fruit = pd.Series(np.random.choice(['apple', 'banana', 'carrot'], 10))\n",
    "weights = pd.Series(np.linspace(1, 10, 10))\n",
    "print(weights.tolist())\n",
    "print(fruit.tolist())\n",
    "#> [1.0, 2.0, 3.0, 4.0, 5.0, 6.0, 7.0, 8.0, 9.0, 10.0]\n",
    "#> ['banana', 'carrot', 'apple', 'carrot', 'carrot', 'apple', 'banana', 'carrot', 'apple', 'carrot']"
   ]
  },
  {
   "attachments": {},
   "cell_type": "markdown",
   "metadata": {},
   "source": [
    "27. How to compute the euclidean distance between two series?\n",
    "Difficiulty Level: L2\n",
    "\n",
    "    Compute the euclidean distance between series (points) p and q, without using a packaged formula.\n",
    "\n",
    "    Desired Output\n",
    "\n",
    "        18.165"
   ]
  },
  {
   "cell_type": "code",
   "execution_count": null,
   "metadata": {},
   "outputs": [],
   "source": [
    "p = pd.Series([1, 2, 3, 4, 5, 6, 7, 8, 9, 10])\n",
    "q = pd.Series([10, 9, 8, 7, 6, 5, 4, 3, 2, 1])"
   ]
  },
  {
   "attachments": {},
   "cell_type": "markdown",
   "metadata": {},
   "source": [
    "28. How to find all the local maxima (or peaks) in a numeric series?\n",
    "Difficiulty Level: L3\n",
    "\n",
    "    Get the positions of peaks (values surrounded by smaller values on both sides) in ser.\n",
    "\n",
    "    Desired output\n",
    "\n",
    "        array([1, 5, 7])"
   ]
  },
  {
   "cell_type": "code",
   "execution_count": null,
   "metadata": {},
   "outputs": [],
   "source": [
    "ser = pd.Series([2, 10, 3, 4, 9, 10, 2, 7, 3])"
   ]
  },
  {
   "attachments": {},
   "cell_type": "markdown",
   "metadata": {},
   "source": [
    "29. How to replace missing spaces in a string with the least frequent character?\n",
    "Replace the spaces in my_str with the least frequent character.\n",
    "\n",
    "Difficiulty Level: L2\n",
    "\n",
    "Desired Output\n",
    "\n",
    "    'dbccdebcabedcgade'  # least frequent is 'c'\n"
   ]
  },
  {
   "cell_type": "code",
   "execution_count": null,
   "metadata": {},
   "outputs": [],
   "source": [
    "my_str = 'dbc deb abed gade'\n"
   ]
  },
  {
   "attachments": {},
   "cell_type": "markdown",
   "metadata": {},
   "source": [
    "30. How to create a TimeSeries starting ‘2000-01-01’ and 10 weekends (saturdays) after that having random numbers as values?\n",
    "Difficiulty Level: L2\n",
    "\n",
    "Desired output\n",
    "\n",
    "values can be random\n",
    "\n",
    "    2000-01-01    4\n",
    "    2000-01-08    1\n",
    "    2000-01-15    8\n",
    "    2000-01-22    4\n",
    "    2000-01-29    4\n",
    "    2000-02-05    2\n",
    "    2000-02-12    4\n",
    "    2000-02-19    9\n",
    "    2000-02-26    6\n",
    "    2000-03-04    6"
   ]
  },
  {
   "cell_type": "code",
   "execution_count": null,
   "metadata": {},
   "outputs": [],
   "source": []
  },
  {
   "attachments": {},
   "cell_type": "markdown",
   "metadata": {},
   "source": [
    "31. How to fill an intermittent time series so all missing dates show up with values of previous non-missing date?\n",
    "Difficiulty Level: L2\n",
    "\n",
    "ser has missing dates and values. Make all missing dates appear and fill up with value from previous date.\n",
    "\n",
    "Desired Output\n",
    "\n",
    "    2000-01-01     1.0\n",
    "    2000-01-02     1.0\n",
    "    2000-01-03    10.0\n",
    "    2000-01-04    10.0\n",
    "    2000-01-05    10.0\n",
    "    2000-01-06     3.0\n",
    "    2000-01-07     3.0\n",
    "    2000-01-08     NaN"
   ]
  },
  {
   "cell_type": "code",
   "execution_count": 147,
   "metadata": {},
   "outputs": [
    {
     "name": "stdout",
     "output_type": "stream",
     "text": [
      "2000-01-01     1.0\n",
      "2000-01-03    10.0\n",
      "2000-01-06     3.0\n",
      "2000-01-08     NaN\n",
      "dtype: float64\n"
     ]
    }
   ],
   "source": [
    "ser = pd.Series([1,10,3,np.nan], index=pd.to_datetime(['2000-01-01', '2000-01-03', '2000-01-06', '2000-01-08']))\n",
    "print(ser)\n",
    "#> 2000-01-01     1.0\n",
    "#> 2000-01-03    10.0\n",
    "#> 2000-01-06     3.0\n",
    "#> 2000-01-08     NaN\n",
    "#> dtype: float64"
   ]
  },
  {
   "attachments": {},
   "cell_type": "markdown",
   "metadata": {},
   "source": [
    "32. How to compute the autocorrelations of a numeric series?\n",
    "Difficiulty Level: L3\n",
    "\n",
    "    Compute autocorrelations for the first 10 lags of ser. Find out which lag has the largest correlation.\n",
    "\n",
    "    Desired output\n",
    "\n",
    "    values will change due to randomness\n",
    "\n",
    "        [0.29999999999999999, -0.11, -0.17000000000000001, 0.46000000000000002, 0.28000000000000003, -0.040000000000000001, -0.37, 0.41999999999999998, 0.47999999999999998, 0.17999999999999999]\n",
    "        Lag having highest correlation:  9"
   ]
  },
  {
   "cell_type": "code",
   "execution_count": null,
   "metadata": {},
   "outputs": [],
   "source": [
    "ser = pd.Series(np.arange(20) + np.random.normal(1, 10, 20))"
   ]
  },
  {
   "attachments": {},
   "cell_type": "markdown",
   "metadata": {},
   "source": [
    "33. How to import only every nth row from a csv file to create a dataframe?\n",
    "Difficiulty Level: L2\n",
    "\n",
    "    Import every 50th row of BostonHousing dataset as a dataframe.\n",
    "    https://raw.githubusercontent.com/selva86/datasets/master/BostonHousing.csv\n",
    "\n",
    "    desired output\n",
    "\n",
    "                            crim    zn  indus chas                  nox     rm   age  \\\n",
    "        0              0.21977   0.0   6.91    0  0.44799999999999995  5.602  62.0   \n",
    "        1               0.0686   0.0   2.89    0                0.445  7.416  62.5   \n",
    "        2   2.7339700000000002   0.0  19.58    0                0.871  5.597  94.9   \n",
    "        3               0.0315  95.0   1.47    0  0.40299999999999997  6.975  15.3   \n",
    "        4  0.19072999999999998  22.0   5.86    0                0.431  6.718  17.5   \n",
    "\n",
    "            dis rad  tax ptratio       b  lstat  medv  \n",
    "        0  6.0877   3  233    17.9   396.9   16.2  19.4  \n",
    "        1  3.4952   2  276    18.0   396.9   6.19  33.2  \n",
    "        2  1.5257   5  403    14.7  351.85  21.45  15.4  \n",
    "        3  7.6534   3  402    17.0   396.9   4.56  34.9  \n",
    "        4  7.8265   7  330    19.1  393.74   6.56  26.2 "
   ]
  },
  {
   "cell_type": "code",
   "execution_count": null,
   "metadata": {},
   "outputs": [],
   "source": []
  },
  {
   "attachments": {},
   "cell_type": "markdown",
   "metadata": {},
   "source": [
    "34. How to change column values when importing csv to a dataframe?\n",
    "Difficulty Level: L2\n",
    "\n",
    "    Import the boston housing dataset, but while importing change the 'medv' (median house value) column so that values < 25 becomes ‘Low’ and > 25 becomes ‘High’."
   ]
  },
  {
   "cell_type": "code",
   "execution_count": null,
   "metadata": {},
   "outputs": [],
   "source": []
  },
  {
   "attachments": {},
   "cell_type": "markdown",
   "metadata": {},
   "source": [
    "35. How to create a dataframe with rows as strides from a given series?\n",
    "Difficiulty Level: L3\n",
    "\n",
    "    Desired Output\n",
    "\n",
    "        array([[ 0,  1,  2,  3],\n",
    "            [ 2,  3,  4,  5],\n",
    "            [ 4,  5,  6,  7],\n",
    "            [ 6,  7,  8,  9],\n",
    "            [ 8,  9, 10, 11],\n",
    "            [10, 11, 12, 13]])"
   ]
  },
  {
   "cell_type": "code",
   "execution_count": null,
   "metadata": {},
   "outputs": [],
   "source": [
    "L = pd.Series(range(15))"
   ]
  },
  {
   "attachments": {},
   "cell_type": "markdown",
   "metadata": {},
   "source": [
    "36. How to import only specified columns from a csv file?\n",
    "Difficulty Level: L1\n",
    "Import ‘crim’ and ‘medv’ columns of the [BostonHousing](https://raw.githubusercontent.com/selva86/datasets/master/BostonHousing.csv) dataset as a dataframe.\n",
    "\n",
    "https://raw.githubusercontent.com/selva86/datasets/master/BostonHousing.csv\n"
   ]
  },
  {
   "cell_type": "code",
   "execution_count": null,
   "metadata": {},
   "outputs": [],
   "source": []
  },
  {
   "attachments": {},
   "cell_type": "markdown",
   "metadata": {},
   "source": [
    "37. How to get the nrows, ncolumns, datatype, summary stats of each column of a dataframe? Also get the array and list equivalent.\n",
    "Difficulty Level: L2\n",
    "\n",
    "Get the number of rows, columns, datatype and summary statistics of each column of the [Cars93](https://raw.githubusercontent.com/selva86/datasets/master/Cars93_miss.csv) dataset. Also get the numpy array and list equivalent of the dataframe."
   ]
  },
  {
   "cell_type": "code",
   "execution_count": null,
   "metadata": {},
   "outputs": [],
   "source": []
  },
  {
   "attachments": {},
   "cell_type": "markdown",
   "metadata": {},
   "source": [
    "38. How to extract the row and column number of a particular cell with given criterion?\n",
    "Difficulty Level: L1\n",
    "\n",
    "    Which manufacturer, model and type has the highest Price? What is the row and column number of the cell with the highest Price value?"
   ]
  },
  {
   "cell_type": "code",
   "execution_count": null,
   "metadata": {},
   "outputs": [],
   "source": [
    "df = pd.read_csv('https://raw.githubusercontent.com/selva86/datasets/master/Cars93_miss.csv')\n"
   ]
  },
  {
   "attachments": {},
   "cell_type": "markdown",
   "metadata": {},
   "source": [
    "39. How to rename a specific columns in a dataframe?\n",
    "Difficulty Level: L2\n",
    "\n",
    "    Rename the column Type as CarType in df and replace the ‘.’ in column names with ‘_’.\n",
    "\n",
    "    Desired Solution\n",
    "\n",
    "    print(df.columns)\n",
    "    \n",
    "        #> Index(['Manufacturer', 'Model', 'CarType', 'Min_Price', 'Price', 'Max_Price',\n",
    "        #>        'MPG_city', 'MPG_highway', 'AirBags', 'DriveTrain', 'Cylinders',\n",
    "        #>        'EngineSize', 'Horsepower', 'RPM', 'Rev_per_mile', 'Man_trans_avail',\n",
    "        #>        'Fuel_tank_capacity', 'Passengers', 'Length', 'Wheelbase', 'Width',\n",
    "        #>        'Turn_circle', 'Rear_seat_room', 'Luggage_room', 'Weight', 'Origin',\n",
    "        #>        'Make'],\n",
    "        #>       dtype='object')"
   ]
  },
  {
   "cell_type": "code",
   "execution_count": null,
   "metadata": {},
   "outputs": [],
   "source": [
    "df = pd.read_csv('https://raw.githubusercontent.com/selva86/datasets/master/Cars93_miss.csv')\n",
    "print(df.columns)\n"
   ]
  },
  {
   "attachments": {},
   "cell_type": "markdown",
   "metadata": {},
   "source": [
    "40. How to check if a dataframe has any missing values?\n",
    "Difficulty Level: L1\n",
    "\n",
    "    Check if df has any missing values."
   ]
  },
  {
   "cell_type": "code",
   "execution_count": null,
   "metadata": {},
   "outputs": [],
   "source": [
    "df = pd.read_csv('https://raw.githubusercontent.com/selva86/datasets/master/Cars93_miss.csv')"
   ]
  },
  {
   "attachments": {},
   "cell_type": "markdown",
   "metadata": {},
   "source": [
    "41. How to count the number of missing values in each column?\n",
    "Difficulty Level: L2\n",
    "\n",
    "    Count the number of missing values in each column of df. Which column has the maximum number of missing values?"
   ]
  },
  {
   "cell_type": "code",
   "execution_count": null,
   "metadata": {},
   "outputs": [],
   "source": [
    "df = pd.read_csv('https://raw.githubusercontent.com/selva86/datasets/master/Cars93_miss.csv')"
   ]
  },
  {
   "attachments": {},
   "cell_type": "markdown",
   "metadata": {},
   "source": [
    "42. How to replace missing values of multiple numeric columns with the mean?\n",
    "Difficulty Level: L2\n",
    "\n",
    "    Replace missing values in Min.Price and Max.Price columns with their respective mean."
   ]
  },
  {
   "cell_type": "code",
   "execution_count": null,
   "metadata": {},
   "outputs": [],
   "source": [
    "df = pd.read_csv('https://raw.githubusercontent.com/selva86/datasets/master/Cars93_miss.csv')"
   ]
  },
  {
   "attachments": {},
   "cell_type": "markdown",
   "metadata": {},
   "source": [
    "43. How to use apply function on existing columns with global variables as additional arguments?\n",
    "Difficulty Level: L3\n",
    "\n",
    "    In df, use apply method to replace the missing values in Min.Price with the column’s mean and those in Max.Price with the column’s median."
   ]
  },
  {
   "cell_type": "code",
   "execution_count": null,
   "metadata": {},
   "outputs": [],
   "source": [
    "df = pd.read_csv('https://raw.githubusercontent.com/selva86/datasets/master/Cars93_miss.csv')"
   ]
  },
  {
   "attachments": {},
   "cell_type": "markdown",
   "metadata": {},
   "source": [
    "44. How to select a specific column from a dataframe as a dataframe instead of a series?\n",
    "Difficulty Level: L2\n",
    "\n",
    "    Get the first column (a) in df as a dataframe (rather than as a Series)."
   ]
  },
  {
   "cell_type": "code",
   "execution_count": null,
   "metadata": {},
   "outputs": [],
   "source": [
    "df = pd.DataFrame(np.arange(20).reshape(-1, 5), columns=list('abcde'))"
   ]
  },
  {
   "attachments": {},
   "cell_type": "markdown",
   "metadata": {},
   "source": [
    "45. How to change the order of columns of a dataframe?\n",
    "Difficulty Level: L3\n",
    "\n",
    "    Actually 3 questions.\n",
    "\n",
    "    In df, interchange columns 'a' and 'c'.\n",
    "    Create a generic function to interchange two columns, without hardcoding column names.\n",
    "\n",
    "    Sort the columns in reverse alphabetical order, that is colume 'e' first through column 'a' last."
   ]
  },
  {
   "cell_type": "code",
   "execution_count": null,
   "metadata": {},
   "outputs": [],
   "source": [
    "df = pd.DataFrame(np.arange(20).reshape(-1, 5), columns=list('abcde'))"
   ]
  },
  {
   "attachments": {},
   "cell_type": "markdown",
   "metadata": {},
   "source": [
    "46. How to set the number of rows and columns displayed in the output?\n",
    "Difficulty Level: L2\n",
    "\n",
    "    Change the pamdas display settings on printing the dataframe df it shows a maximum of 10 rows and 10 columns."
   ]
  },
  {
   "cell_type": "code",
   "execution_count": null,
   "metadata": {},
   "outputs": [],
   "source": [
    "df = pd.read_csv('https://raw.githubusercontent.com/selva86/datasets/master/Cars93_miss.csv')"
   ]
  },
  {
   "attachments": {},
   "cell_type": "markdown",
   "metadata": {},
   "source": [
    "47. How to format or suppress scientific notations in a pandas dataframe?\n",
    "Difficulty Level: L2\n",
    "\n",
    "    Suppress scientific notations like ‘e-03’ in df and print upto 4 numbers after decimal."
   ]
  },
  {
   "cell_type": "code",
   "execution_count": null,
   "metadata": {},
   "outputs": [],
   "source": [
    "df = pd.DataFrame(np.random.random(4)**10, columns=['random'])\n",
    "df"
   ]
  },
  {
   "cell_type": "markdown",
   "metadata": {},
   "source": []
  },
  {
   "cell_type": "code",
   "execution_count": null,
   "metadata": {},
   "outputs": [],
   "source": []
  },
  {
   "cell_type": "markdown",
   "metadata": {},
   "source": []
  },
  {
   "cell_type": "code",
   "execution_count": null,
   "metadata": {},
   "outputs": [],
   "source": []
  },
  {
   "cell_type": "markdown",
   "metadata": {},
   "source": []
  },
  {
   "cell_type": "code",
   "execution_count": null,
   "metadata": {},
   "outputs": [],
   "source": []
  },
  {
   "cell_type": "markdown",
   "metadata": {},
   "source": []
  },
  {
   "cell_type": "code",
   "execution_count": null,
   "metadata": {},
   "outputs": [],
   "source": []
  }
 ],
 "metadata": {
  "kernelspec": {
   "display_name": "Python 3",
   "language": "python",
   "name": "python3"
  },
  "language_info": {
   "codemirror_mode": {
    "name": "ipython",
    "version": 3
   },
   "file_extension": ".py",
   "mimetype": "text/x-python",
   "name": "python",
   "nbconvert_exporter": "python",
   "pygments_lexer": "ipython3",
   "version": "3.10.8"
  },
  "orig_nbformat": 4
 },
 "nbformat": 4,
 "nbformat_minor": 2
}
