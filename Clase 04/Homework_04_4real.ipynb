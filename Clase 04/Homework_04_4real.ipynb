{
 "cells": [
  {
   "cell_type": "code",
   "execution_count": 140,
   "metadata": {},
   "outputs": [],
   "source": [
    "import pandas as pd\n"
   ]
  },
  {
   "cell_type": "code",
   "execution_count": 141,
   "metadata": {},
   "outputs": [],
   "source": [
    "df = pd.read_csv('hospitales2.csv')\n",
    "\n",
    "# split nos ayuda a divir los textos en listas\n",
    "coordenadas = [d2.split() for d2 in df['WKT']]\n",
    "\n",
    "#creo un dataframe\n",
    "dfco = pd.DataFrame(coordenadas,columns=[\"o\",\"Longitude\",\"Latitude\",])"
   ]
  },
  {
   "cell_type": "code",
   "execution_count": 142,
   "metadata": {},
   "outputs": [],
   "source": [
    "#Acomodar en su lugar la data\n",
    "dfco.drop(['o'],axis=1,inplace=True)\n",
    "new = dfco['Longitude']\n",
    "dfco.drop(['Longitude'],axis=1,inplace=True)\n",
    "dfco['Longitude']=new"
   ]
  },
  {
   "cell_type": "code",
   "execution_count": 143,
   "metadata": {},
   "outputs": [],
   "source": [
    "#Limpiar la data\n",
    "dfco['Latitude'] = [float(d.strip(')')) for d in dfco['Latitude']]\n",
    "dfco['Longitude'] = [float(d.strip('()')) for d in dfco['Longitude']]\n"
   ]
  },
  {
   "cell_type": "code",
   "execution_count": null,
   "metadata": {},
   "outputs": [],
   "source": [
    "# Agregamos las columnas que faltaban \n",
    "dfco['Name'] = df['DOM_NORMA']\n",
    "dfco['Label'] = df['NOM_MAP']\n"
   ]
  },
  {
   "cell_type": "code",
   "execution_count": 106,
   "metadata": {},
   "outputs": [],
   "source": [
    "pd.DataFrame(dfco).to_csv('hospitales_salida2.csv', index=False)\n"
   ]
  }
 ],
 "metadata": {
  "kernelspec": {
   "display_name": "Python 3",
   "language": "python",
   "name": "python3"
  },
  "language_info": {
   "codemirror_mode": {
    "name": "ipython",
    "version": 3
   },
   "file_extension": ".py",
   "mimetype": "text/x-python",
   "name": "python",
   "nbconvert_exporter": "python",
   "pygments_lexer": "ipython3",
   "version": "3.10.8"
  },
  "orig_nbformat": 4
 },
 "nbformat": 4,
 "nbformat_minor": 2
}
